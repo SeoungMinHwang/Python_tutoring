{
 "cells": [
  {
   "cell_type": "markdown",
   "id": "214a0023",
   "metadata": {},
   "source": [
    "### 파이썬은 집합을 표현하는 세트(set)라는 자료형을 제공합니다.   \n",
    "### 따라서 세트는 합집합, 교집합, 차집합 등의 연산이 가능합니다."
   ]
  },
  {
   "cell_type": "markdown",
   "id": "900c2d6d",
   "metadata": {},
   "source": [
    "# 1. 세트 만들기\n",
    "\n",
    "**세트 = {값1, 값2, 값3}**  \n",
    "\n",
    "세트는 각 요소간의 순서가 없고 중복될 수 없습니다."
   ]
  },
  {
   "cell_type": "code",
   "execution_count": 1,
   "id": "b3223a09",
   "metadata": {},
   "outputs": [
    {
     "data": {
      "text/plain": [
       "{'딸기', '사과', '오렌지'}"
      ]
     },
     "execution_count": 1,
     "metadata": {},
     "output_type": "execute_result"
    }
   ],
   "source": [
    "fruits = {'딸기', '사과', '오렌지'}\n",
    "\n",
    "fruits"
   ]
  },
  {
   "cell_type": "code",
   "execution_count": 2,
   "id": "ce5dc903",
   "metadata": {},
   "outputs": [
    {
     "data": {
      "text/plain": [
       "{'딸기', '사과', '오렌지'}"
      ]
     },
     "execution_count": 2,
     "metadata": {},
     "output_type": "execute_result"
    }
   ],
   "source": [
    "# 중복되는 딸기 하나만 표현\n",
    "fruits = {'딸기', '사과', '오렌지', '딸기'}\n",
    "\n",
    "fruits"
   ]
  },
  {
   "cell_type": "code",
   "execution_count": 3,
   "id": "28511fa8",
   "metadata": {},
   "outputs": [
    {
     "data": {
      "text/plain": [
       "{1, 2, 21, 23, 321, 53, '딸기', '사과', '오렌지'}"
      ]
     },
     "execution_count": 3,
     "metadata": {},
     "output_type": "execute_result"
    }
   ],
   "source": [
    "# 순서가 없습니다.\n",
    "fruits = {'딸기',2, 53, 21,  '사과', '오렌지', 1, 23, 321}\n",
    "\n",
    "fruits"
   ]
  },
  {
   "cell_type": "markdown",
   "id": "fbf4f066",
   "metadata": {},
   "source": [
    "## 1.1. 세트에 특정 값이 있는지 확인하기"
   ]
  },
  {
   "cell_type": "code",
   "execution_count": 4,
   "id": "257bd889",
   "metadata": {},
   "outputs": [
    {
     "data": {
      "text/plain": [
       "True"
      ]
     },
     "execution_count": 4,
     "metadata": {},
     "output_type": "execute_result"
    }
   ],
   "source": [
    "fruits = {'딸기', '사과', '오렌지', '딸기'}\n",
    "\n",
    "'딸기' in fruits"
   ]
  },
  {
   "cell_type": "code",
   "execution_count": 5,
   "id": "18734fd9",
   "metadata": {},
   "outputs": [
    {
     "data": {
      "text/plain": [
       "False"
      ]
     },
     "execution_count": 5,
     "metadata": {},
     "output_type": "execute_result"
    }
   ],
   "source": [
    "'삼겹살' in fruits"
   ]
  },
  {
   "cell_type": "code",
   "execution_count": 6,
   "id": "294e9173",
   "metadata": {},
   "outputs": [
    {
     "data": {
      "text/plain": [
       "False"
      ]
     },
     "execution_count": 6,
     "metadata": {},
     "output_type": "execute_result"
    }
   ],
   "source": [
    "# not(부정)도 사용 가능\n",
    "'딸기' not in fruits"
   ]
  },
  {
   "cell_type": "code",
   "execution_count": 7,
   "id": "8bf8cb5b",
   "metadata": {},
   "outputs": [
    {
     "data": {
      "text/plain": [
       "True"
      ]
     },
     "execution_count": 7,
     "metadata": {},
     "output_type": "execute_result"
    }
   ],
   "source": [
    "'삼겹살' not in fruits"
   ]
  },
  {
   "cell_type": "markdown",
   "id": "ff0e4008",
   "metadata": {},
   "source": [
    "## 1.2 set를 사용하여 세트 만들기  \n",
    "\n",
    "**set(이터러블 객체)**"
   ]
  },
  {
   "cell_type": "code",
   "execution_count": 8,
   "id": "b6b488e6",
   "metadata": {},
   "outputs": [
    {
     "data": {
      "text/plain": [
       "{'a', 'e', 'l', 'p'}"
      ]
     },
     "execution_count": 8,
     "metadata": {},
     "output_type": "execute_result"
    }
   ],
   "source": [
    "# 문자열을 세트로 만들면 유일한 문자만 세트로 만들어 지면 중복 허용X\n",
    "a = set('apple')\n",
    "a"
   ]
  },
  {
   "cell_type": "code",
   "execution_count": 9,
   "id": "8c5296c9",
   "metadata": {},
   "outputs": [
    {
     "data": {
      "text/plain": [
       "{0, 1, 2, 3, 4}"
      ]
     },
     "execution_count": 9,
     "metadata": {},
     "output_type": "execute_result"
    }
   ],
   "source": [
    "set(range(5))"
   ]
  },
  {
   "cell_type": "markdown",
   "id": "8ca969ab",
   "metadata": {},
   "source": [
    "빈 세트 만들기"
   ]
  },
  {
   "cell_type": "code",
   "execution_count": 10,
   "id": "fd00e4e3",
   "metadata": {},
   "outputs": [
    {
     "data": {
      "text/plain": [
       "set()"
      ]
     },
     "execution_count": 10,
     "metadata": {},
     "output_type": "execute_result"
    }
   ],
   "source": [
    "s = set()\n",
    "s"
   ]
  },
  {
   "cell_type": "code",
   "execution_count": 11,
   "id": "1a2e456d",
   "metadata": {},
   "outputs": [
    {
     "data": {
      "text/plain": [
       "{}"
      ]
     },
     "execution_count": 11,
     "metadata": {},
     "output_type": "execute_result"
    }
   ],
   "source": [
    "# s= {} 와 같이 사용하면 빈 딕셔너리가 만들어지므로 주의\n",
    "s = {}\n",
    "s"
   ]
  },
  {
   "cell_type": "markdown",
   "id": "410e95a4",
   "metadata": {},
   "source": [
    "파이썬은 type() 함수를 사용하여 객체의 타입을 알 수 있습니다.\n",
    "\n",
    "**type(객체)**"
   ]
  },
  {
   "cell_type": "code",
   "execution_count": 12,
   "id": "ebe5eb08",
   "metadata": {},
   "outputs": [
    {
     "data": {
      "text/plain": [
       "dict"
      ]
     },
     "execution_count": 12,
     "metadata": {},
     "output_type": "execute_result"
    }
   ],
   "source": [
    "type(s)"
   ]
  },
  {
   "cell_type": "markdown",
   "id": "25f04e53",
   "metadata": {},
   "source": [
    "#### 세트의 내부적으로 해쉬를 이용하여 구현되어 있습니다.\n",
    "#### 즉 뮤터블한 객체는 요소로 가지지 못합니다."
   ]
  },
  {
   "cell_type": "markdown",
   "id": "09ee5071",
   "metadata": {},
   "source": [
    "# 2. 집합 연산 사용하기"
   ]
  },
  {
   "cell_type": "markdown",
   "id": "68e33ae7",
   "metadata": {},
   "source": [
    "## 합집합(union)  \n",
    "\n",
    "  \n",
    "**세트1 | 세트2**    ==> (shift키 + \\\\)  \n",
    "**set.union(세트1, 세트2)**"
   ]
  },
  {
   "cell_type": "code",
   "execution_count": 13,
   "id": "532e9640",
   "metadata": {},
   "outputs": [
    {
     "data": {
      "text/plain": [
       "{1, 2, 3, 4, 5, 6}"
      ]
     },
     "execution_count": 13,
     "metadata": {},
     "output_type": "execute_result"
    }
   ],
   "source": [
    "a = {1,2,3,4}\n",
    "b = {3,4,5,6}\n",
    "\n",
    "a | b"
   ]
  },
  {
   "cell_type": "code",
   "execution_count": 14,
   "id": "61b19f44",
   "metadata": {},
   "outputs": [
    {
     "data": {
      "text/plain": [
       "{1, 2, 3, 4, 5, 6}"
      ]
     },
     "execution_count": 14,
     "metadata": {},
     "output_type": "execute_result"
    }
   ],
   "source": [
    "set.union(a,b)"
   ]
  },
  {
   "cell_type": "markdown",
   "id": "064c6f5c",
   "metadata": {},
   "source": [
    "## 교집합(intersection)   \n",
    "\n",
    "**세트1 & 세트2**  \n",
    "**set.intersection(세트1, 세트2)**"
   ]
  },
  {
   "cell_type": "code",
   "execution_count": 15,
   "id": "58e6a646",
   "metadata": {},
   "outputs": [
    {
     "data": {
      "text/plain": [
       "{3, 4}"
      ]
     },
     "execution_count": 15,
     "metadata": {},
     "output_type": "execute_result"
    }
   ],
   "source": [
    "a = {1,2,3,4}\n",
    "b = {3,4,5,6}\n",
    "\n",
    "a & b"
   ]
  },
  {
   "cell_type": "code",
   "execution_count": 16,
   "id": "936de48b",
   "metadata": {},
   "outputs": [
    {
     "data": {
      "text/plain": [
       "{3, 4}"
      ]
     },
     "execution_count": 16,
     "metadata": {},
     "output_type": "execute_result"
    }
   ],
   "source": [
    "set.intersection(a,b)"
   ]
  },
  {
   "cell_type": "markdown",
   "id": "d8e2864c",
   "metadata": {},
   "source": [
    "## 차집합(difference)  \n",
    "\n",
    "**세트1 - 세트2**  \n",
    "**set.difference(세트1, 세트2)**"
   ]
  },
  {
   "cell_type": "code",
   "execution_count": 17,
   "id": "5d1df721",
   "metadata": {},
   "outputs": [
    {
     "data": {
      "text/plain": [
       "{1, 2}"
      ]
     },
     "execution_count": 17,
     "metadata": {},
     "output_type": "execute_result"
    }
   ],
   "source": [
    "a = {1,2,3,4}\n",
    "b = {3,4,5,6}\n",
    "\n",
    "a - b"
   ]
  },
  {
   "cell_type": "code",
   "execution_count": 18,
   "id": "ac19e87a",
   "metadata": {},
   "outputs": [
    {
     "data": {
      "text/plain": [
       "{1, 2}"
      ]
     },
     "execution_count": 18,
     "metadata": {},
     "output_type": "execute_result"
    }
   ],
   "source": [
    "set.difference(a,b)"
   ]
  },
  {
   "cell_type": "markdown",
   "id": "2276b635",
   "metadata": {},
   "source": [
    "# 3. 세트가 같은지 다른지 확인하기  \n",
    "\n",
    "\n",
    "== 연산자를 사용하여 서로 같은지 확인 가능"
   ]
  },
  {
   "cell_type": "code",
   "execution_count": 19,
   "id": "40e2283c",
   "metadata": {},
   "outputs": [],
   "source": [
    "a = {1,2,3,4}"
   ]
  },
  {
   "cell_type": "code",
   "execution_count": 20,
   "id": "14fe2283",
   "metadata": {},
   "outputs": [
    {
     "data": {
      "text/plain": [
       "True"
      ]
     },
     "execution_count": 20,
     "metadata": {},
     "output_type": "execute_result"
    }
   ],
   "source": [
    "a == {1,2,3,4}"
   ]
  },
  {
   "cell_type": "code",
   "execution_count": 21,
   "id": "75d2cec5",
   "metadata": {},
   "outputs": [
    {
     "data": {
      "text/plain": [
       "True"
      ]
     },
     "execution_count": 21,
     "metadata": {},
     "output_type": "execute_result"
    }
   ],
   "source": [
    "# 세트는 요소의 순서가 정해서 있지 않으므로 비교했을 때 각 요소만 같다면 참입니다\n",
    "a == {4,1,3,2}"
   ]
  },
  {
   "cell_type": "markdown",
   "id": "a95c216a",
   "metadata": {},
   "source": [
    "# 4. 세트 조작하기"
   ]
  },
  {
   "cell_type": "markdown",
   "id": "01905493",
   "metadata": {},
   "source": [
    "**add(요소)** 는 세트에 요소를 추가합니다."
   ]
  },
  {
   "cell_type": "code",
   "execution_count": 22,
   "id": "c27854ee",
   "metadata": {},
   "outputs": [
    {
     "data": {
      "text/plain": [
       "{1, 2, 3, 6}"
      ]
     },
     "execution_count": 22,
     "metadata": {},
     "output_type": "execute_result"
    }
   ],
   "source": [
    "a = {1,2,3}\n",
    "a.add(6)\n",
    "a"
   ]
  },
  {
   "cell_type": "markdown",
   "id": "58cae153",
   "metadata": {},
   "source": [
    "**remove(요소)** 는 특정 요소를 삭제하고 없으면 에러를 발생시킵니다."
   ]
  },
  {
   "cell_type": "code",
   "execution_count": 23,
   "id": "be621b9a",
   "metadata": {},
   "outputs": [
    {
     "data": {
      "text/plain": [
       "{1, 3}"
      ]
     },
     "execution_count": 23,
     "metadata": {},
     "output_type": "execute_result"
    }
   ],
   "source": [
    "a = {1,2,3}\n",
    "a.remove(2)\n",
    "a"
   ]
  },
  {
   "cell_type": "code",
   "execution_count": 24,
   "id": "a799a028",
   "metadata": {},
   "outputs": [
    {
     "ename": "KeyError",
     "evalue": "7",
     "output_type": "error",
     "traceback": [
      "\u001b[1;31m---------------------------------------------------------------------------\u001b[0m",
      "\u001b[1;31mKeyError\u001b[0m                                  Traceback (most recent call last)",
      "Cell \u001b[1;32mIn[24], line 2\u001b[0m\n\u001b[0;32m      1\u001b[0m a \u001b[38;5;241m=\u001b[39m {\u001b[38;5;241m1\u001b[39m,\u001b[38;5;241m2\u001b[39m,\u001b[38;5;241m3\u001b[39m}\n\u001b[1;32m----> 2\u001b[0m \u001b[43ma\u001b[49m\u001b[38;5;241;43m.\u001b[39;49m\u001b[43mremove\u001b[49m\u001b[43m(\u001b[49m\u001b[38;5;241;43m7\u001b[39;49m\u001b[43m)\u001b[49m\n\u001b[0;32m      3\u001b[0m a\n",
      "\u001b[1;31mKeyError\u001b[0m: 7"
     ]
    }
   ],
   "source": [
    "a = {1,2,3}\n",
    "a.remove(7)\n",
    "a"
   ]
  },
  {
   "cell_type": "markdown",
   "id": "981d9c53",
   "metadata": {},
   "source": [
    "**discard(요소)** 는 세트에서 특정 요소를 삭제하고 없다면 그냥 넘어갑니다."
   ]
  },
  {
   "cell_type": "code",
   "execution_count": 25,
   "id": "75f97894",
   "metadata": {},
   "outputs": [
    {
     "data": {
      "text/plain": [
       "{1, 2, 3}"
      ]
     },
     "execution_count": 25,
     "metadata": {},
     "output_type": "execute_result"
    }
   ],
   "source": [
    "a = {1,2,3}\n",
    "a.discard(7)\n",
    "a"
   ]
  },
  {
   "cell_type": "markdown",
   "id": "7099352f",
   "metadata": {},
   "source": [
    "### 세트도 이터러블한 객체이므로 len()함수 사용이 가능합니다."
   ]
  },
  {
   "cell_type": "code",
   "execution_count": 26,
   "id": "3f1d3fda",
   "metadata": {},
   "outputs": [
    {
     "data": {
      "text/plain": [
       "4"
      ]
     },
     "execution_count": 26,
     "metadata": {},
     "output_type": "execute_result"
    }
   ],
   "source": [
    "a = {1,2,3,4}\n",
    "len(a)"
   ]
  },
  {
   "cell_type": "markdown",
   "id": "98a16970",
   "metadata": {},
   "source": [
    "# 5. 세트의 할당과 복사"
   ]
  },
  {
   "cell_type": "markdown",
   "id": "fa72d44a",
   "metadata": {},
   "source": [
    "세트도 리스트와 딕셔너리처럼 복사와 할당이 같은 메커니즘 입니다. "
   ]
  },
  {
   "cell_type": "markdown",
   "id": "6783d8d8",
   "metadata": {},
   "source": [
    "# 6. 반복문으로 세트의 요소 모두 출력하기"
   ]
  },
  {
   "cell_type": "code",
   "execution_count": 27,
   "id": "639b3f0d",
   "metadata": {},
   "outputs": [
    {
     "name": "stdout",
     "output_type": "stream",
     "text": [
      "b\n",
      "1\n",
      "3\n",
      "5\n",
      "g\n"
     ]
    }
   ],
   "source": [
    "# 단 순서가 없으므로 무작위로 나옵니다.\n",
    "for i in {1, 3, 5, 'b', 'g'}:\n",
    "    print(i)"
   ]
  },
  {
   "cell_type": "markdown",
   "id": "03c446a2",
   "metadata": {},
   "source": [
    "# 7. 세트 컴프리헨션 사용하기"
   ]
  },
  {
   "cell_type": "markdown",
   "id": "6b796472",
   "metadata": {},
   "source": [
    "**{식 for 변수 in 반복가능한객체}**  \n",
    "**set(식 for 변수 in 반복가능한객체)**\n"
   ]
  },
  {
   "cell_type": "code",
   "execution_count": 28,
   "id": "a69a1b67",
   "metadata": {},
   "outputs": [
    {
     "data": {
      "text/plain": [
       "[1, 2, 3, 4, 2, 4, 6, 8]"
      ]
     },
     "execution_count": 28,
     "metadata": {},
     "output_type": "execute_result"
    }
   ],
   "source": [
    "# Ex \n",
    "\n",
    "arr = [1,2,3,4,2,4,6,8]\n",
    "arr"
   ]
  },
  {
   "cell_type": "code",
   "execution_count": 29,
   "id": "4480cf9d",
   "metadata": {},
   "outputs": [
    {
     "data": {
      "text/plain": [
       "{1, 2, 3, 4, 6, 8}"
      ]
     },
     "execution_count": 29,
     "metadata": {},
     "output_type": "execute_result"
    }
   ],
   "source": [
    "{i for i in arr}"
   ]
  },
  {
   "cell_type": "markdown",
   "id": "0cfb2408",
   "metadata": {},
   "source": [
    "### 이전의 컴프리헨션들과 동일하게 if문도 사용할 수 있습니다."
   ]
  },
  {
   "cell_type": "code",
   "execution_count": 30,
   "id": "8121179b",
   "metadata": {},
   "outputs": [
    {
     "data": {
      "text/plain": [
       "{1, 3}"
      ]
     },
     "execution_count": 30,
     "metadata": {},
     "output_type": "execute_result"
    }
   ],
   "source": [
    "arr = [1,2,3,4,2,4,6,8]\n",
    "\n",
    "#홀수만 가지는 세트를 만드는 세트 컴프리헨션 \n",
    "{i for i in arr if i % 2 == 1}"
   ]
  },
  {
   "cell_type": "code",
   "execution_count": 31,
   "id": "3097eb43",
   "metadata": {},
   "outputs": [
    {
     "data": {
      "text/plain": [
       "{4, 6, 12, 14, 16, 18}"
      ]
     },
     "execution_count": 31,
     "metadata": {},
     "output_type": "execute_result"
    }
   ],
   "source": [
    "# 짝수면 10을 더하고 홀수면 3 을 더하는 컴프리헨션 \n",
    "{i + 10 if i % 2 == 0 else i+3 for i in arr}"
   ]
  },
  {
   "cell_type": "markdown",
   "id": "345196aa",
   "metadata": {},
   "source": [
    "# 프로그래머스 문제  \n",
    "\n",
    "주사위 게임 2  (주사위의 중복을) 세트를 활용해서 해당 문제를 해결해 보세요\n"
   ]
  }
 ],
 "metadata": {
  "kernelspec": {
   "display_name": "Python 3 (ipykernel)",
   "language": "python",
   "name": "python3"
  },
  "language_info": {
   "codemirror_mode": {
    "name": "ipython",
    "version": 3
   },
   "file_extension": ".py",
   "mimetype": "text/x-python",
   "name": "python",
   "nbconvert_exporter": "python",
   "pygments_lexer": "ipython3",
   "version": "3.10.9"
  }
 },
 "nbformat": 4,
 "nbformat_minor": 5
}
