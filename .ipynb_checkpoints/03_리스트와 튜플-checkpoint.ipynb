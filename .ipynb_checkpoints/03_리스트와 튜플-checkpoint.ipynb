{
 "cells": [
  {
   "cell_type": "markdown",
   "id": "e9aa2ad9",
   "metadata": {},
   "source": [
    "# 1. 리스트 만들기"
   ]
  },
  {
   "cell_type": "markdown",
   "id": "9f34e6d4",
   "metadata": {},
   "source": [
    "리스트 = [값, 값, ...] 의 형식으로 만들며 여러가지 자료형이 들어갈 수 있습니다"
   ]
  },
  {
   "cell_type": "code",
   "execution_count": 1,
   "id": "d17ca745",
   "metadata": {},
   "outputs": [
    {
     "data": {
      "text/plain": [
       "[1, 2.6, True, 'Python']"
      ]
     },
     "execution_count": 1,
     "metadata": {},
     "output_type": "execute_result"
    }
   ],
   "source": [
    "arr = [1, 2.6, True, \"Python\"]\n",
    "arr"
   ]
  },
  {
   "cell_type": "markdown",
   "id": "ecaf9bc9",
   "metadata": {},
   "source": [
    "빈 리스트를 만들 때는   \n",
    " - list()\n",
    " - [] \n",
    " 형식으로 만들 수 있습니다."
   ]
  },
  {
   "cell_type": "code",
   "execution_count": 2,
   "id": "49bfc4d4",
   "metadata": {},
   "outputs": [
    {
     "data": {
      "text/plain": [
       "[]"
      ]
     },
     "execution_count": 2,
     "metadata": {},
     "output_type": "execute_result"
    }
   ],
   "source": [
    "arr1 = list()\n",
    "arr1"
   ]
  },
  {
   "cell_type": "code",
   "execution_count": 3,
   "id": "ad4499c4",
   "metadata": {},
   "outputs": [
    {
     "data": {
      "text/plain": [
       "[]"
      ]
     },
     "execution_count": 3,
     "metadata": {},
     "output_type": "execute_result"
    }
   ],
   "source": [
    "arr2 = []\n",
    "arr2"
   ]
  },
  {
   "cell_type": "markdown",
   "id": "00bb0e82",
   "metadata": {},
   "source": [
    "## 1.2 range() 를 이용하여 리스트 만들기"
   ]
  },
  {
   "cell_type": "markdown",
   "id": "1c9b8e19",
   "metadata": {},
   "source": [
    "range 객체는 연속된 숫자를 생성  \n"
   ]
  },
  {
   "cell_type": "code",
   "execution_count": 4,
   "id": "18d13d9e",
   "metadata": {},
   "outputs": [
    {
     "data": {
      "text/plain": [
       "[0, 1, 2, 3, 4, 5, 6, 7, 8, 9]"
      ]
     },
     "execution_count": 4,
     "metadata": {},
     "output_type": "execute_result"
    }
   ],
   "source": [
    "# list(range(횟수))\n",
    "list(range(10))"
   ]
  },
  {
   "cell_type": "code",
   "execution_count": 5,
   "id": "a29f7a10",
   "metadata": {},
   "outputs": [
    {
     "data": {
      "text/plain": [
       "[5, 6, 7, 8, 9]"
      ]
     },
     "execution_count": 5,
     "metadata": {},
     "output_type": "execute_result"
    }
   ],
   "source": [
    "#  list(range(시작, 끝))\n",
    "# 끝 값은 포함 X\n",
    "list(range(5,10))"
   ]
  },
  {
   "cell_type": "code",
   "execution_count": 6,
   "id": "f0a06723",
   "metadata": {},
   "outputs": [
    {
     "data": {
      "text/plain": [
       "[5, 7, 9]"
      ]
     },
     "execution_count": 6,
     "metadata": {},
     "output_type": "execute_result"
    }
   ],
   "source": [
    "# list(range(시작, 끝, 증감폭))\n",
    "list(range(5, 10, 2))"
   ]
  },
  {
   "cell_type": "code",
   "execution_count": 7,
   "id": "d6820a49",
   "metadata": {},
   "outputs": [
    {
     "data": {
      "text/plain": [
       "[10, 8, 6]"
      ]
     },
     "execution_count": 7,
     "metadata": {},
     "output_type": "execute_result"
    }
   ],
   "source": [
    "list(range(10, 5, -2))"
   ]
  },
  {
   "cell_type": "markdown",
   "id": "31bcc5e7",
   "metadata": {},
   "source": [
    "# 2. 튜플"
   ]
  },
  {
   "cell_type": "markdown",
   "id": "29b03d3e",
   "metadata": {},
   "source": [
    "튜플(tuple)은 리스트 처럼 요소를 일렬로 저장하지만, 안에 저장된 요소를 변경, 추가, 삭제를 할 수 없습니다.  \n",
    "간단하게 읽기 리스트라 할 수 있습니다."
   ]
  },
  {
   "cell_type": "markdown",
   "id": "4f4e338d",
   "metadata": {},
   "source": [
    "**심화 내용**\n",
    "\n",
    "단순하게 수정이 불가능 한 것이 아니라  \n",
    "처음 정의 했던 튜플의 요소들의 참조값을 변경할 수 없습니다."
   ]
  },
  {
   "cell_type": "code",
   "execution_count": 8,
   "id": "c8dcf5bc",
   "metadata": {},
   "outputs": [
    {
     "data": {
      "text/plain": [
       "(5, [25, 2, 523], {3, 5})"
      ]
     },
     "execution_count": 8,
     "metadata": {},
     "output_type": "execute_result"
    }
   ],
   "source": [
    "# 튜플이 수정되는 예시\n",
    "t = (5,[25,2], {3,5})\n",
    "t[1].append(523)\n",
    "t"
   ]
  },
  {
   "cell_type": "code",
   "execution_count": 9,
   "id": "5a737b1d",
   "metadata": {},
   "outputs": [
    {
     "data": {
      "text/plain": [
       "(5, [25, 2, 523], {3, 5, 7})"
      ]
     },
     "execution_count": 9,
     "metadata": {},
     "output_type": "execute_result"
    }
   ],
   "source": [
    "t[2].add(7)\n",
    "t"
   ]
  },
  {
   "cell_type": "markdown",
   "id": "c950ecf0",
   "metadata": {},
   "source": [
    "## 2.1. 튜플 사용하기"
   ]
  },
  {
   "cell_type": "markdown",
   "id": "5955c8f1",
   "metadata": {},
   "source": [
    "튜플 = (값, 값, 값)  \n",
    "튜플 = 값, 값, 값  \n",
    "\n",
    "등으로 표현이 가능합니다."
   ]
  },
  {
   "cell_type": "code",
   "execution_count": 10,
   "id": "0edcafb7",
   "metadata": {},
   "outputs": [
    {
     "data": {
      "text/plain": [
       "(1, 2, 3)"
      ]
     },
     "execution_count": 10,
     "metadata": {},
     "output_type": "execute_result"
    }
   ],
   "source": [
    "t1 = (1,2,3)\n",
    "t1"
   ]
  },
  {
   "cell_type": "code",
   "execution_count": 11,
   "id": "8c2e298b",
   "metadata": {},
   "outputs": [
    {
     "data": {
      "text/plain": [
       "(3, 4, 5)"
      ]
     },
     "execution_count": 11,
     "metadata": {},
     "output_type": "execute_result"
    }
   ],
   "source": [
    "t2 = 3,4,5\n",
    "t2"
   ]
  },
  {
   "cell_type": "markdown",
   "id": "6d184219",
   "metadata": {},
   "source": [
    "튜플도 여러 형식의 값을 저장할 수 있습니다."
   ]
  },
  {
   "cell_type": "code",
   "execution_count": 12,
   "id": "68364c7c",
   "metadata": {},
   "outputs": [
    {
     "data": {
      "text/plain": [
       "(1, 1.5, '일점오', True, [1, 2, 3])"
      ]
     },
     "execution_count": 12,
     "metadata": {},
     "output_type": "execute_result"
    }
   ],
   "source": [
    "t3 = (1, 1.5, '일점오', True, [1,2,3])\n",
    "t3"
   ]
  },
  {
   "cell_type": "code",
   "execution_count": 13,
   "id": "e1a4849b",
   "metadata": {},
   "outputs": [
    {
     "data": {
      "text/plain": [
       "35"
      ]
     },
     "execution_count": 13,
     "metadata": {},
     "output_type": "execute_result"
    }
   ],
   "source": [
    "# 요소가 하나일 때 튜플이 아닌 값을 반환합니다.\n",
    "(35)"
   ]
  },
  {
   "cell_type": "markdown",
   "id": "7c3116e0",
   "metadata": {},
   "source": [
    "요소가 한개 들어있는 튜플은 다음과 같은 형태로 만듭니다.  \n",
    "튜플 = (값,)  \n",
    "튜플 = 값,"
   ]
  },
  {
   "cell_type": "code",
   "execution_count": 14,
   "id": "6730b09e",
   "metadata": {},
   "outputs": [
    {
     "data": {
      "text/plain": [
       "(25,)"
      ]
     },
     "execution_count": 14,
     "metadata": {},
     "output_type": "execute_result"
    }
   ],
   "source": [
    "t4 = 25,\n",
    "t4"
   ]
  },
  {
   "cell_type": "code",
   "execution_count": 15,
   "id": "2a9182a2",
   "metadata": {},
   "outputs": [
    {
     "data": {
      "text/plain": [
       "(25,)"
      ]
     },
     "execution_count": 15,
     "metadata": {},
     "output_type": "execute_result"
    }
   ],
   "source": [
    "t5 = 25,\n",
    "t5"
   ]
  },
  {
   "cell_type": "markdown",
   "id": "c4de86da",
   "metadata": {},
   "source": [
    "## 2.2. range를 사용하여 튜플만들기   \n",
    "\n",
    "list와 동일합니다."
   ]
  },
  {
   "cell_type": "markdown",
   "id": "4dfdc08e",
   "metadata": {},
   "source": [
    "# 3. 튜플을 리스트로, 리스트를 튜플로 만들기"
   ]
  },
  {
   "cell_type": "markdown",
   "id": "7fd097fd",
   "metadata": {},
   "source": [
    "tuple안에 리스트를 넣으면 새 튜플이 생깁니다."
   ]
  },
  {
   "cell_type": "code",
   "execution_count": 16,
   "id": "555e607e",
   "metadata": {},
   "outputs": [
    {
     "data": {
      "text/plain": [
       "(1, 2, 3)"
      ]
     },
     "execution_count": 16,
     "metadata": {},
     "output_type": "execute_result"
    }
   ],
   "source": [
    "l_to_t = tuple([1,2,3])\n",
    "l_to_t"
   ]
  },
  {
   "cell_type": "markdown",
   "id": "092a5936",
   "metadata": {},
   "source": [
    "리스트도 마찬가지로 리스트 안에 튜플을 넣으면 리스트가 생깁니다."
   ]
  },
  {
   "cell_type": "code",
   "execution_count": 17,
   "id": "f9294c8d",
   "metadata": {},
   "outputs": [
    {
     "data": {
      "text/plain": [
       "[1, 2, 3]"
      ]
     },
     "execution_count": 17,
     "metadata": {},
     "output_type": "execute_result"
    }
   ],
   "source": [
    "t_to_l = list((1,2,3))\n",
    "t_to_l"
   ]
  },
  {
   "cell_type": "markdown",
   "id": "319acc46",
   "metadata": {},
   "source": [
    "# 참고"
   ]
  },
  {
   "cell_type": "markdown",
   "id": "1cb2584c",
   "metadata": {},
   "source": [
    "## list와 tuple안에 문자열을 넣으면?"
   ]
  },
  {
   "cell_type": "markdown",
   "id": "b44dae0a",
   "metadata": {},
   "source": [
    "문자 하나하나가 리스트의 요소로 들어간 리스트가 만들어집니다.  \n",
    "튜플도 동일"
   ]
  },
  {
   "cell_type": "code",
   "execution_count": 18,
   "id": "1afad14b",
   "metadata": {},
   "outputs": [
    {
     "data": {
      "text/plain": [
       "['H', 'e', 'l', 'l', 'o', '!']"
      ]
     },
     "execution_count": 18,
     "metadata": {},
     "output_type": "execute_result"
    }
   ],
   "source": [
    "list(\"Hello!\")"
   ]
  },
  {
   "cell_type": "code",
   "execution_count": 19,
   "id": "b1e0d37b",
   "metadata": {},
   "outputs": [
    {
     "data": {
      "text/plain": [
       "('H', 'e', 'l', 'l', 'o', '!')"
      ]
     },
     "execution_count": 19,
     "metadata": {},
     "output_type": "execute_result"
    }
   ],
   "source": [
    "tuple(\"Hello!\")"
   ]
  },
  {
   "cell_type": "markdown",
   "id": "91a2c12d",
   "metadata": {},
   "source": [
    "##  리스트, 튜플 언패킹"
   ]
  },
  {
   "cell_type": "markdown",
   "id": "5cb8d07d",
   "metadata": {},
   "source": [
    "리스트와 튜플의 요소를 변수 여러 개에 할당하는 것을 리스트 언패킹, 튜플 언패킹 이라고 합니다."
   ]
  },
  {
   "cell_type": "code",
   "execution_count": 20,
   "id": "765fb6b2",
   "metadata": {},
   "outputs": [
    {
     "name": "stdout",
     "output_type": "stream",
     "text": [
      "1\n",
      "2\n",
      "3\n"
     ]
    }
   ],
   "source": [
    "a,b,c = [1,2,3]\n",
    "print(a)\n",
    "print(b)\n",
    "print(c)"
   ]
  },
  {
   "cell_type": "code",
   "execution_count": 21,
   "id": "bdc1444f",
   "metadata": {},
   "outputs": [
    {
     "name": "stdout",
     "output_type": "stream",
     "text": [
      "1\n",
      "2\n",
      "3\n"
     ]
    }
   ],
   "source": [
    "a,b,c = (1,2,3)\n",
    "print(a)\n",
    "print(b)\n",
    "print(c)"
   ]
  }
 ],
 "metadata": {
  "kernelspec": {
   "display_name": "Python 3 (ipykernel)",
   "language": "python",
   "name": "python3"
  },
  "language_info": {
   "codemirror_mode": {
    "name": "ipython",
    "version": 3
   },
   "file_extension": ".py",
   "mimetype": "text/x-python",
   "name": "python",
   "nbconvert_exporter": "python",
   "pygments_lexer": "ipython3",
   "version": "3.10.9"
  }
 },
 "nbformat": 4,
 "nbformat_minor": 5
}
