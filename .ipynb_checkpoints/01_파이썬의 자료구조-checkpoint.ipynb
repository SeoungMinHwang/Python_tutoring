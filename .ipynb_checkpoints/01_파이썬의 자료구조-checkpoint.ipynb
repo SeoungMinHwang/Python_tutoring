{
 "cells": [
  {
   "cell_type": "markdown",
   "id": "7d4bff47",
   "metadata": {},
   "source": [
    "# 파이썬의 빌트인 자료 구조\n",
    "\n",
    "![파이썬 빌트인 데이터 구조](./01_Python_Data_Structures.png)  \n",
    "\n",
    "-----"
   ]
  },
  {
   "cell_type": "markdown",
   "id": "c308517e",
   "metadata": {},
   "source": [
    "# 자료 구조들 특성별 분류\n",
    "![파이썬 객체 특성별 분류](02_Python_Data_Classification.png)  \n",
    "\n",
    " ----- \n",
    "\n",
    "#### 시퀀스 객체   \n",
    "순서가 있는 자료형으로, 각 요소가 인덱스를 가지고 있습니다.  \n",
    " \n",
    "#### 이뮤터블 객체  \n",
    "값을 변경할 수 없는 객체를 의미합니다. 이뮤터블 객체의 요소를 변경하려면 새로운 객체를 생성해야 합니다. \n",
    " \n",
    "#### 뮤터블 객체 \n",
    "값을 변경할 수 있는 객체를 의미합니다. 뮤터블 객체는 요소의 추가, 삭제, 수정이 가능합니다. \n",
    "\n",
    "#### 이터러블 객체\n",
    "반복 구조에서 사용할 수 있는 객체입니다. 이터러블 객체는 iter() 함수를 사용하여 반복자(iterator)를 생성할 수 있습니다. 파이썬에서 대부분의 자료형은 이터러블 객체입니다.\n"
   ]
  }
 ],
 "metadata": {
  "kernelspec": {
   "display_name": "Python 3 (ipykernel)",
   "language": "python",
   "name": "python3"
  },
  "language_info": {
   "codemirror_mode": {
    "name": "ipython",
    "version": 3
   },
   "file_extension": ".py",
   "mimetype": "text/x-python",
   "name": "python",
   "nbconvert_exporter": "python",
   "pygments_lexer": "ipython3",
   "version": "3.10.9"
  }
 },
 "nbformat": 4,
 "nbformat_minor": 5
}
