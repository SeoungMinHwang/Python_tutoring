{
 "cells": [
  {
   "cell_type": "markdown",
   "id": "c7f0021f",
   "metadata": {},
   "source": [
    "# 1. 문자열 사용하기\n",
    "\n",
    "#### 문자열은 '  '(작은 따옴표), \"  \"(큰 따옴표)로 만들 수 있으며  \n",
    "#### 여러줄의 문자열을 만들고 싶을 때는 '''(작은 따옴표 3개)로 시작하고 '''로 끝납니다. (큰따옴표도 마찬가지)"
   ]
  },
  {
   "cell_type": "code",
   "execution_count": 1,
   "id": "4c8ab838",
   "metadata": {},
   "outputs": [
    {
     "name": "stdout",
     "output_type": "stream",
     "text": [
      "hello!\n"
     ]
    }
   ],
   "source": [
    "hello = 'hello!'\n",
    "print(hello)"
   ]
  },
  {
   "cell_type": "code",
   "execution_count": 2,
   "id": "0ba2fc72",
   "metadata": {},
   "outputs": [
    {
     "name": "stdout",
     "output_type": "stream",
     "text": [
      "hello!\n"
     ]
    }
   ],
   "source": [
    "hello = \"hello!\"\n",
    "print(hello)"
   ]
  },
  {
   "cell_type": "code",
   "execution_count": 3,
   "id": "a1250517",
   "metadata": {},
   "outputs": [
    {
     "name": "stdout",
     "output_type": "stream",
     "text": [
      "Hello! \n",
      "Nice to meet you!\n",
      ":)\n"
     ]
    }
   ],
   "source": [
    "hello = \"\"\"Hello! \n",
    "Nice to meet you!\n",
    ":)\"\"\"\n",
    "\n",
    "\n",
    "print(hello)"
   ]
  },
  {
   "cell_type": "markdown",
   "id": "211fda41",
   "metadata": {},
   "source": [
    "#### 작은 따옴표 안에서 큰 따옴표 Or 큰 따옴표에서 작은 따옴표 포함 가능 "
   ]
  },
  {
   "cell_type": "code",
   "execution_count": 4,
   "id": "c60ff628",
   "metadata": {},
   "outputs": [
    {
     "name": "stdout",
     "output_type": "stream",
     "text": [
      "It's Python\n",
      "It\"s Python\n"
     ]
    }
   ],
   "source": [
    "print(\"It's Python\")\n",
    "print('It\"s Python')"
   ]
  },
  {
   "cell_type": "markdown",
   "id": "60df3aeb",
   "metadata": {},
   "source": [
    "#### 작은 따옴표 안에 작은 따옴표 또는 기본적으로 사용하지 못하는 특수한 문자열을 출력하는 방법  \n",
    "\n",
    "#### 특수한 문자열 앞에  \\ (역슬래시)를 사용하여 표현 가능"
   ]
  },
  {
   "cell_type": "code",
   "execution_count": 5,
   "id": "1a91336d",
   "metadata": {},
   "outputs": [
    {
     "ename": "SyntaxError",
     "evalue": "unterminated string literal (detected at line 1) (2080568304.py, line 1)",
     "output_type": "error",
     "traceback": [
      "\u001b[1;36m  Cell \u001b[1;32mIn[5], line 1\u001b[1;36m\u001b[0m\n\u001b[1;33m    print('It's Python')\u001b[0m\n\u001b[1;37m                      ^\u001b[0m\n\u001b[1;31mSyntaxError\u001b[0m\u001b[1;31m:\u001b[0m unterminated string literal (detected at line 1)\n"
     ]
    }
   ],
   "source": [
    "print('It's Python')"
   ]
  },
  {
   "cell_type": "code",
   "execution_count": 6,
   "id": "49de3268",
   "metadata": {},
   "outputs": [
    {
     "name": "stdout",
     "output_type": "stream",
     "text": [
      "It's Python\n"
     ]
    }
   ],
   "source": [
    "print('It\\'s Python')"
   ]
  },
  {
   "cell_type": "code",
   "execution_count": 7,
   "id": "a58ccb9b",
   "metadata": {},
   "outputs": [
    {
     "ename": "SyntaxError",
     "evalue": "unterminated string literal (detected at line 1) (3478311569.py, line 1)",
     "output_type": "error",
     "traceback": [
      "\u001b[1;36m  Cell \u001b[1;32mIn[7], line 1\u001b[1;36m\u001b[0m\n\u001b[1;33m    print('1$ is 1,347.69\\')\u001b[0m\n\u001b[1;37m          ^\u001b[0m\n\u001b[1;31mSyntaxError\u001b[0m\u001b[1;31m:\u001b[0m unterminated string literal (detected at line 1)\n"
     ]
    }
   ],
   "source": [
    "print('1$ is 1,347.69\\')"
   ]
  },
  {
   "cell_type": "code",
   "execution_count": 8,
   "id": "f2f2e267",
   "metadata": {},
   "outputs": [
    {
     "name": "stdout",
     "output_type": "stream",
     "text": [
      "1$ is 1,347.69\\\n"
     ]
    }
   ],
   "source": [
    "print('1$ is 1,347.69\\\\')"
   ]
  },
  {
   "cell_type": "markdown",
   "id": "49e7cb41",
   "metadata": {},
   "source": [
    "# 2. 문자열 응용하기"
   ]
  },
  {
   "cell_type": "markdown",
   "id": "7de9effb",
   "metadata": {},
   "source": [
    "## 2.1. 문자열 바꾸기  (자주 쓰이는 문자열 메서드 정리)\n",
    "\n",
    "\n",
    "replace('바꿀문자열', '새문자열')"
   ]
  },
  {
   "cell_type": "code",
   "execution_count": 9,
   "id": "0233731a",
   "metadata": {},
   "outputs": [
    {
     "data": {
      "text/plain": [
       "'Studying is fun!'"
      ]
     },
     "execution_count": 9,
     "metadata": {},
     "output_type": "execute_result"
    }
   ],
   "source": [
    "a = \"Studying is board\"\n",
    "a.replace('board', 'fun!')"
   ]
  },
  {
   "cell_type": "code",
   "execution_count": 10,
   "id": "96e0864a",
   "metadata": {},
   "outputs": [
    {
     "name": "stdout",
     "output_type": "stream",
     "text": [
      "Studying is board\n"
     ]
    }
   ],
   "source": [
    "# \"Studying is board\"  fun!이 아닌 board로 출력\n",
    "print(a)"
   ]
  },
  {
   "cell_type": "code",
   "execution_count": 11,
   "id": "49c8df5e",
   "metadata": {},
   "outputs": [
    {
     "name": "stdout",
     "output_type": "stream",
     "text": [
      "Studying is fun!\n"
     ]
    }
   ],
   "source": [
    "# 바뀐 결과를 유지하고 싶다면 문자열이 저장된 변수에 replace를 사용한 뒤 다시 변수에 할당\n",
    "a = \"Studying is board\"\n",
    "a = a.replace('board', 'fun!')\n",
    "print(a)"
   ]
  },
  {
   "cell_type": "markdown",
   "id": "b13ba724",
   "metadata": {},
   "source": [
    "## 2.2. 문자열 분리하기  \n",
    "split(\"구분 문자\")  \n",
    "\n",
    "split() ==>  default값은 공백으로 구분합니다."
   ]
  },
  {
   "cell_type": "code",
   "execution_count": 12,
   "id": "8a79b5cc",
   "metadata": {},
   "outputs": [
    {
     "data": {
      "text/plain": [
       "['Samsung', 'Naver', 'Baemin', 'Coupang']"
      ]
     },
     "execution_count": 12,
     "metadata": {},
     "output_type": "execute_result"
    }
   ],
   "source": [
    "\"Samsung Naver Baemin Coupang\".split()"
   ]
  },
  {
   "cell_type": "code",
   "execution_count": 13,
   "id": "04975a00",
   "metadata": {},
   "outputs": [
    {
     "data": {
      "text/plain": [
       "['Samsung', 'Naver', 'Baemin', 'Coupang']"
      ]
     },
     "execution_count": 13,
     "metadata": {},
     "output_type": "execute_result"
    }
   ],
   "source": [
    "\"Samsung and Naver and Baemin and Coupang\".split(' and ')"
   ]
  },
  {
   "cell_type": "markdown",
   "id": "f8570697",
   "metadata": {},
   "source": [
    "## 2.3. 분리한 문자열을 다시 리스트로 연결하기  \n",
    "\n",
    "\"구분 문자\".join(List 객체)  \n",
    "\n",
    "리스트의 각 요소들을 구분 문자로 연결하여 문자열 반환"
   ]
  },
  {
   "cell_type": "code",
   "execution_count": 14,
   "id": "c1fdd014",
   "metadata": {},
   "outputs": [
    {
     "data": {
      "text/plain": [
       "'Samsung Naver Baemin Coupang'"
      ]
     },
     "execution_count": 14,
     "metadata": {},
     "output_type": "execute_result"
    }
   ],
   "source": [
    "' '.join(['Samsung', 'Naver', 'Baemin', 'Coupang'])"
   ]
  },
  {
   "cell_type": "code",
   "execution_count": 15,
   "id": "1cd0f2d4",
   "metadata": {},
   "outputs": [
    {
     "data": {
      "text/plain": [
       "'Samsung and Naver and Baemin and Coupang'"
      ]
     },
     "execution_count": 15,
     "metadata": {},
     "output_type": "execute_result"
    }
   ],
   "source": [
    "' and '.join(['Samsung', 'Naver', 'Baemin', 'Coupang'])"
   ]
  },
  {
   "cell_type": "code",
   "execution_count": 16,
   "id": "213b73c4",
   "metadata": {},
   "outputs": [
    {
     "data": {
      "text/plain": [
       "'Samsung-Naver-Baemin-Coupang'"
      ]
     },
     "execution_count": 16,
     "metadata": {},
     "output_type": "execute_result"
    }
   ],
   "source": [
    "'-'.join(['Samsung', 'Naver', 'Baemin', 'Coupang'])"
   ]
  },
  {
   "cell_type": "markdown",
   "id": "e4f170f3",
   "metadata": {},
   "source": [
    "## 2.4 문자열 대소문자"
   ]
  },
  {
   "cell_type": "markdown",
   "id": "d22a4976",
   "metadata": {},
   "source": [
    "upper()는 모두 대문자로 변환"
   ]
  },
  {
   "cell_type": "code",
   "execution_count": 17,
   "id": "82c48665",
   "metadata": {},
   "outputs": [
    {
     "data": {
      "text/plain": [
       "'PYTHON'"
      ]
     },
     "execution_count": 17,
     "metadata": {},
     "output_type": "execute_result"
    }
   ],
   "source": [
    "\"PyThOn\".upper()"
   ]
  },
  {
   "cell_type": "markdown",
   "id": "1deb26e0",
   "metadata": {},
   "source": [
    "lower()은 모두 소문자로 변환"
   ]
  },
  {
   "cell_type": "code",
   "execution_count": 18,
   "id": "47bd61cb",
   "metadata": {},
   "outputs": [
    {
     "data": {
      "text/plain": [
       "'python'"
      ]
     },
     "execution_count": 18,
     "metadata": {},
     "output_type": "execute_result"
    }
   ],
   "source": [
    "\"PyThOn\".lower()"
   ]
  },
  {
   "cell_type": "markdown",
   "id": "af1a012b",
   "metadata": {},
   "source": [
    "문자열의 알파벳들이 대문자인지 확인하는 방법 isupper()   ==>  bool값 반환"
   ]
  },
  {
   "cell_type": "code",
   "execution_count": 19,
   "id": "0bb76a65",
   "metadata": {},
   "outputs": [
    {
     "data": {
      "text/plain": [
       "True"
      ]
     },
     "execution_count": 19,
     "metadata": {},
     "output_type": "execute_result"
    }
   ],
   "source": [
    "'ABC'.isupper()"
   ]
  },
  {
   "cell_type": "code",
   "execution_count": 20,
   "id": "79f646bb",
   "metadata": {},
   "outputs": [
    {
     "data": {
      "text/plain": [
       "True"
      ]
     },
     "execution_count": 20,
     "metadata": {},
     "output_type": "execute_result"
    }
   ],
   "source": [
    "'ABC123'.isupper()"
   ]
  },
  {
   "cell_type": "code",
   "execution_count": 21,
   "id": "74a7af79",
   "metadata": {},
   "outputs": [
    {
     "data": {
      "text/plain": [
       "False"
      ]
     },
     "execution_count": 21,
     "metadata": {},
     "output_type": "execute_result"
    }
   ],
   "source": [
    "'Abc123'.isupper()"
   ]
  },
  {
   "cell_type": "markdown",
   "id": "4815e4e8",
   "metadata": {},
   "source": [
    "문자열의 알파벳들이 소문자인지 확인하는 방법 islower()   ==>  bool값 반환"
   ]
  },
  {
   "cell_type": "code",
   "execution_count": 22,
   "id": "c4c3d05a",
   "metadata": {},
   "outputs": [
    {
     "data": {
      "text/plain": [
       "True"
      ]
     },
     "execution_count": 22,
     "metadata": {},
     "output_type": "execute_result"
    }
   ],
   "source": [
    "'abc'.islower()"
   ]
  },
  {
   "cell_type": "code",
   "execution_count": 23,
   "id": "d81af22c",
   "metadata": {},
   "outputs": [
    {
     "data": {
      "text/plain": [
       "True"
      ]
     },
     "execution_count": 23,
     "metadata": {},
     "output_type": "execute_result"
    }
   ],
   "source": [
    "'abc123'.islower()"
   ]
  },
  {
   "cell_type": "code",
   "execution_count": 24,
   "id": "0a62fd24",
   "metadata": {},
   "outputs": [
    {
     "data": {
      "text/plain": [
       "False"
      ]
     },
     "execution_count": 24,
     "metadata": {},
     "output_type": "execute_result"
    }
   ],
   "source": [
    "'aBc123'.islower()"
   ]
  },
  {
   "cell_type": "markdown",
   "id": "1b000ff1",
   "metadata": {},
   "source": [
    "## 2.5. 문자열 양쪽의 공백 삭제 "
   ]
  },
  {
   "cell_type": "markdown",
   "id": "093add7c",
   "metadata": {},
   "source": [
    "lstrip() 왼쪽 공백 삭제 (right)  \n",
    "rstrip() 오른쪽 공백 삭제 (left)  \n",
    "stript() 양쪽 공백 삭제 "
   ]
  },
  {
   "cell_type": "code",
   "execution_count": 25,
   "id": "5c50eca8",
   "metadata": {},
   "outputs": [
    {
     "data": {
      "text/plain": [
       "'Hello!   '"
      ]
     },
     "execution_count": 25,
     "metadata": {},
     "output_type": "execute_result"
    }
   ],
   "source": [
    "\"    Hello!   \".lstrip()"
   ]
  },
  {
   "cell_type": "code",
   "execution_count": 26,
   "id": "515ac7f2",
   "metadata": {},
   "outputs": [
    {
     "data": {
      "text/plain": [
       "'    Hello!'"
      ]
     },
     "execution_count": 26,
     "metadata": {},
     "output_type": "execute_result"
    }
   ],
   "source": [
    "\"    Hello!   \".rstrip()"
   ]
  },
  {
   "cell_type": "code",
   "execution_count": 27,
   "id": "bba5eca2",
   "metadata": {},
   "outputs": [
    {
     "data": {
      "text/plain": [
       "'Hello!'"
      ]
     },
     "execution_count": 27,
     "metadata": {},
     "output_type": "execute_result"
    }
   ],
   "source": [
    "\"    Hello!   \".strip()"
   ]
  },
  {
   "cell_type": "markdown",
   "id": "24e37703",
   "metadata": {},
   "source": [
    "공백 대신에 문자를 넣으면 해당 문자가 있으면 삭제"
   ]
  },
  {
   "cell_type": "code",
   "execution_count": 28,
   "id": "266a9fb8",
   "metadata": {},
   "outputs": [
    {
     "data": {
      "text/plain": [
       "'AP'"
      ]
     },
     "execution_count": 28,
     "metadata": {},
     "output_type": "execute_result"
    }
   ],
   "source": [
    "\"PPAP\".lstrip('P')"
   ]
  },
  {
   "cell_type": "code",
   "execution_count": 29,
   "id": "7328528c",
   "metadata": {},
   "outputs": [
    {
     "data": {
      "text/plain": [
       "'PPA'"
      ]
     },
     "execution_count": 29,
     "metadata": {},
     "output_type": "execute_result"
    }
   ],
   "source": [
    "\"PPAP\".rstrip('P')"
   ]
  },
  {
   "cell_type": "code",
   "execution_count": 30,
   "id": "961c9c50",
   "metadata": {},
   "outputs": [
    {
     "data": {
      "text/plain": [
       "'A'"
      ]
     },
     "execution_count": 30,
     "metadata": {},
     "output_type": "execute_result"
    }
   ],
   "source": [
    "\"PPAP\".strip('P')"
   ]
  },
  {
   "cell_type": "markdown",
   "id": "8b501827",
   "metadata": {},
   "source": [
    "## 2.6. 메서드 체이닝"
   ]
  },
  {
   "cell_type": "markdown",
   "id": "284aa9dc",
   "metadata": {},
   "source": [
    "문자열 메서드는 처리한 결과를 반환하도록 만들어져 있습니다.  \n",
    "\n",
    "즉 메서드를 계속 연결해서 호출하는 메서드 체이닝이 가능합니다.   \n",
    "메서드를 줄줄이 연결한다고 해서 메서드 체이닝(method chaining)이라 부릅니다"
   ]
  },
  {
   "cell_type": "code",
   "execution_count": 31,
   "id": "bc946e04",
   "metadata": {},
   "outputs": [
    {
     "data": {
      "text/plain": [
       "'Life is a little short You need Python!'"
      ]
     },
     "execution_count": 31,
     "metadata": {},
     "output_type": "execute_result"
    }
   ],
   "source": [
    "\"Life is a little short You don't need Python!\".replace(\" don't\", \"\")"
   ]
  },
  {
   "cell_type": "code",
   "execution_count": 32,
   "id": "c27a6cbf",
   "metadata": {},
   "outputs": [
    {
     "data": {
      "text/plain": [
       "'Life is too short You need Python!'"
      ]
     },
     "execution_count": 32,
     "metadata": {},
     "output_type": "execute_result"
    }
   ],
   "source": [
    "'Life is a little short You need Python!'.replace(\"a little\", \"too\")"
   ]
  },
  {
   "cell_type": "code",
   "execution_count": 33,
   "id": "77555d71",
   "metadata": {},
   "outputs": [
    {
     "data": {
      "text/plain": [
       "'LIFE IS TOO SHORT YOU NEED PYTHON!'"
      ]
     },
     "execution_count": 33,
     "metadata": {},
     "output_type": "execute_result"
    }
   ],
   "source": [
    "'Life is too short You need Python!'.upper()"
   ]
  },
  {
   "cell_type": "code",
   "execution_count": 34,
   "id": "cd15d9f5",
   "metadata": {},
   "outputs": [
    {
     "data": {
      "text/plain": [
       "'LIFE IS TOO SHORT YOU NEED PYTHON!'"
      ]
     },
     "execution_count": 34,
     "metadata": {},
     "output_type": "execute_result"
    }
   ],
   "source": [
    "# 메서드 체이닝을 사용하여 다음과 같이 사용가능\n",
    "\"Life is a little short You don't need Python!\".replace(\" don't\", \"\").replace(\"a little\", \"too\").upper()"
   ]
  },
  {
   "cell_type": "markdown",
   "id": "a36a12b4",
   "metadata": {},
   "source": [
    "## 2.7. 문자열 위치 찾기\n",
    "\n",
    "find(\"찾을 문자열\")  ==> 찾으려는 문자열이 시작하는 인덱스를 반환"
   ]
  },
  {
   "cell_type": "code",
   "execution_count": 35,
   "id": "0dff9d94",
   "metadata": {},
   "outputs": [
    {
     "data": {
      "text/plain": [
       "0"
      ]
     },
     "execution_count": 35,
     "metadata": {},
     "output_type": "execute_result"
    }
   ],
   "source": [
    "\"abcdab\".find('a')"
   ]
  },
  {
   "cell_type": "code",
   "execution_count": 36,
   "id": "91ac07f3",
   "metadata": {
    "scrolled": true
   },
   "outputs": [
    {
     "data": {
      "text/plain": [
       "0"
      ]
     },
     "execution_count": 36,
     "metadata": {},
     "output_type": "execute_result"
    }
   ],
   "source": [
    "\"abcdab\".find('ab')"
   ]
  },
  {
   "cell_type": "markdown",
   "id": "0e46f6f6",
   "metadata": {},
   "source": [
    "뒤에서 부터 찾고싶은 경우 rfind(\"찾을 문자열\")"
   ]
  },
  {
   "cell_type": "code",
   "execution_count": 37,
   "id": "4e12fedc",
   "metadata": {},
   "outputs": [
    {
     "data": {
      "text/plain": [
       "4"
      ]
     },
     "execution_count": 37,
     "metadata": {},
     "output_type": "execute_result"
    }
   ],
   "source": [
    "\"abcdab\".rfind('ab')"
   ]
  },
  {
   "cell_type": "markdown",
   "id": "26d7b60a",
   "metadata": {},
   "source": [
    "찾으려는 문자열이 없을 경우에는 -1을 반환"
   ]
  },
  {
   "cell_type": "code",
   "execution_count": 38,
   "id": "1f0b04cd",
   "metadata": {},
   "outputs": [
    {
     "data": {
      "text/plain": [
       "-1"
      ]
     },
     "execution_count": 38,
     "metadata": {},
     "output_type": "execute_result"
    }
   ],
   "source": [
    "\"abcdab\".find('ac')"
   ]
  },
  {
   "cell_type": "markdown",
   "id": "b3931e30",
   "metadata": {},
   "source": [
    "index(\"찾을 문자열\")도 같은 방식으로 찾으려는 문자열의 시작 인덱스를 반환하지만  \n",
    "찾지 못할경우에는 에러를 발생 시킴"
   ]
  },
  {
   "cell_type": "code",
   "execution_count": 39,
   "id": "aca2d6c3",
   "metadata": {},
   "outputs": [
    {
     "data": {
      "text/plain": [
       "0"
      ]
     },
     "execution_count": 39,
     "metadata": {},
     "output_type": "execute_result"
    }
   ],
   "source": [
    "\"abcdab\".index('ab')"
   ]
  },
  {
   "cell_type": "code",
   "execution_count": 40,
   "id": "54fc3cf2",
   "metadata": {},
   "outputs": [
    {
     "data": {
      "text/plain": [
       "4"
      ]
     },
     "execution_count": 40,
     "metadata": {},
     "output_type": "execute_result"
    }
   ],
   "source": [
    "\"abcdab\".rindex('ab')"
   ]
  },
  {
   "cell_type": "code",
   "execution_count": 41,
   "id": "9b466392",
   "metadata": {},
   "outputs": [
    {
     "ename": "ValueError",
     "evalue": "substring not found",
     "output_type": "error",
     "traceback": [
      "\u001b[1;31m---------------------------------------------------------------------------\u001b[0m",
      "\u001b[1;31mValueError\u001b[0m                                Traceback (most recent call last)",
      "Cell \u001b[1;32mIn[41], line 1\u001b[0m\n\u001b[1;32m----> 1\u001b[0m \u001b[38;5;124;43m\"\u001b[39;49m\u001b[38;5;124;43mabcdab\u001b[39;49m\u001b[38;5;124;43m\"\u001b[39;49m\u001b[38;5;241;43m.\u001b[39;49m\u001b[43mindex\u001b[49m\u001b[43m(\u001b[49m\u001b[38;5;124;43m'\u001b[39;49m\u001b[38;5;124;43mac\u001b[39;49m\u001b[38;5;124;43m'\u001b[39;49m\u001b[43m)\u001b[49m\n",
      "\u001b[1;31mValueError\u001b[0m: substring not found"
     ]
    }
   ],
   "source": [
    "\"abcdab\".index('ac')"
   ]
  },
  {
   "cell_type": "markdown",
   "id": "2f81b39f",
   "metadata": {},
   "source": [
    "## 2.8. 문자열 개수 세기¶"
   ]
  },
  {
   "cell_type": "markdown",
   "id": "ac6a2ac7",
   "metadata": {},
   "source": [
    "count(\"개수를 세려는 문자열\")"
   ]
  },
  {
   "cell_type": "code",
   "execution_count": 42,
   "id": "e7f86f9b",
   "metadata": {},
   "outputs": [
    {
     "data": {
      "text/plain": [
       "5"
      ]
     },
     "execution_count": 42,
     "metadata": {},
     "output_type": "execute_result"
    }
   ],
   "source": [
    "#        1 2  3      4           5 \n",
    "\"Life is too short, You need Python\".count('o')"
   ]
  },
  {
   "cell_type": "markdown",
   "id": "9ca44270",
   "metadata": {},
   "source": [
    "## 2.9. f-string 사용하기\n",
    "\n",
    "' '   \n",
    "\" \"  \n",
    "\"\"\"    \"\"\"  \n",
    "\n",
    "\n",
    "위와 같이 문자열을 출력하는 따옴표 앞에 f를 붙여서  \n",
    "**f \"출력하고자 하는 문자열 \"** 과 같이 사용합니다."
   ]
  },
  {
   "cell_type": "code",
   "execution_count": 43,
   "id": "d5f41a16",
   "metadata": {},
   "outputs": [
    {
     "data": {
      "text/plain": [
       "'You are Programmer! So, I think You can do everythings'"
      ]
     },
     "execution_count": 43,
     "metadata": {},
     "output_type": "execute_result"
    }
   ],
   "source": [
    "job = 'Programmer'\n",
    "think = \"You can do everythings\"\n",
    "\n",
    "# 아래와 같이 변수에 할당된 값을 출력하고 싶을 때 해당 변수를 {}(중괄호) 안에 넣어서 문자열 생성가능\n",
    "f'You are {job}! So, I think {think}'"
   ]
  },
  {
   "cell_type": "markdown",
   "id": "53c7a20c",
   "metadata": {},
   "source": [
    "## 2.10. +, *  연산자\n",
    "\n",
    "문자열은 + 연산자를 사용하여 합칠 수 있음"
   ]
  },
  {
   "cell_type": "code",
   "execution_count": 44,
   "id": "791a36d4",
   "metadata": {},
   "outputs": [],
   "source": [
    "a = 'One Two '\n",
    "b = 'Three, Four'"
   ]
  },
  {
   "cell_type": "code",
   "execution_count": 45,
   "id": "50f2fb01",
   "metadata": {},
   "outputs": [
    {
     "data": {
      "text/plain": [
       "'One Two Three, Four'"
      ]
     },
     "execution_count": 45,
     "metadata": {},
     "output_type": "execute_result"
    }
   ],
   "source": [
    "a + b"
   ]
  },
  {
   "cell_type": "markdown",
   "id": "3e2322f0",
   "metadata": {},
   "source": [
    "\\* 연산자를 사용하여 원하는 횟수만큼 반복 가능"
   ]
  },
  {
   "cell_type": "code",
   "execution_count": 46,
   "id": "40e58d0e",
   "metadata": {},
   "outputs": [
    {
     "data": {
      "text/plain": [
       "'repeatrepeatrepeatrepeatrepeatrepeat'"
      ]
     },
     "execution_count": 46,
     "metadata": {},
     "output_type": "execute_result"
    }
   ],
   "source": [
    "\"repeat\" * 6"
   ]
  },
  {
   "cell_type": "markdown",
   "id": "50e0caf8",
   "metadata": {},
   "source": [
    "# 프로그래머스 관련 문제풀이!\n",
    "\n",
    "\n",
    "특정 문자 제거하기  \n",
    "모음 제거  \n",
    "대문자와 소문자  \n",
    "문자열안에 문자열  \n",
    "숫자 찾기"
   ]
  },
  {
   "cell_type": "code",
   "execution_count": null,
   "id": "1e72b08b",
   "metadata": {},
   "outputs": [],
   "source": []
  }
 ],
 "metadata": {
  "kernelspec": {
   "display_name": "Python 3 (ipykernel)",
   "language": "python",
   "name": "python3"
  },
  "language_info": {
   "codemirror_mode": {
    "name": "ipython",
    "version": 3
   },
   "file_extension": ".py",
   "mimetype": "text/x-python",
   "name": "python",
   "nbconvert_exporter": "python",
   "pygments_lexer": "ipython3",
   "version": "3.10.9"
  }
 },
 "nbformat": 4,
 "nbformat_minor": 5
}
