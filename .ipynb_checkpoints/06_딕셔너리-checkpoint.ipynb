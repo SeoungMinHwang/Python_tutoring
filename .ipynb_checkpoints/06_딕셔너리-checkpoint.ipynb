{
 "cells": [
  {
   "cell_type": "markdown",
   "id": "c1ae4e27",
   "metadata": {},
   "source": [
    " # 1. 딕셔너리 만들기  \n",
    " \n",
    " 파이썬에서는 연관된 값을 묶어서 저장하는 용도로 딕셔너리라는 자료형을 제공합니다.  \n",
    " 딕셔너리는 {}(중괄호) 안에 **키 : 값** 형식으로 저장하며 각 키와 값은 ,(콤마)로 구분해줍니다.  \n",
    " \n",
    "**딕셔너리 = {키1: 값1, 키2: 값2}**  \n",
    "\n",
    "아래와 같이 value값에는 다양한 자료형을 사용할 수 있습니다. 하지만 키 값에는 해쉬가 가능한 이뮤터블 객체만 사용할 수 있습니다."
   ]
  },
  {
   "cell_type": "code",
   "execution_count": 1,
   "id": "e04a765b",
   "metadata": {},
   "outputs": [
    {
     "data": {
      "text/plain": [
       "{'height': 175,\n",
       " 'weight': 72,\n",
       " 'edu': 'university',\n",
       " 'tech': ('python', 'java', 'algorithm'),\n",
       " 'married': False}"
      ]
     },
     "execution_count": 1,
     "metadata": {},
     "output_type": "execute_result"
    }
   ],
   "source": [
    "person = {'height' : 175, 'weight': 72, 'edu' : 'university', \"tech\" : ('python', 'java', 'algorithm'), \"married\" : False}\n",
    "person"
   ]
  },
  {
   "cell_type": "markdown",
   "id": "12db8902",
   "metadata": {},
   "source": [
    "# 1.1. 빈 딕셔너리 만들기\n",
    "\n",
    "**딕셔너리 = {}**  \n",
    "**딕셔너리 = dict()**"
   ]
  },
  {
   "cell_type": "code",
   "execution_count": 2,
   "id": "95c6938a",
   "metadata": {},
   "outputs": [
    {
     "data": {
      "text/plain": [
       "{}"
      ]
     },
     "execution_count": 2,
     "metadata": {},
     "output_type": "execute_result"
    }
   ],
   "source": [
    "d = {}\n",
    "d"
   ]
  },
  {
   "cell_type": "code",
   "execution_count": 3,
   "id": "12efa3c3",
   "metadata": {},
   "outputs": [
    {
     "data": {
      "text/plain": [
       "{}"
      ]
     },
     "execution_count": 3,
     "metadata": {},
     "output_type": "execute_result"
    }
   ],
   "source": [
    "d2 = dict()\n",
    "d2"
   ]
  },
  {
   "cell_type": "markdown",
   "id": "6d736cef",
   "metadata": {},
   "source": [
    "# 1.2. dict()함수로 딕셔너리 만들기  \n",
    "\n",
    " - 딕셔너리 = dict(키1=값1, 키2=값2)  \n",
    " \n",
    " - 딕셔너리 = dict(zip([키1, 키2], [값1, 값2]))  \n",
    " \n",
    " - 딕셔너리 = dict([(키1, 값1), (키2, 값2)])  \n",
    " \n",
    " - 딕셔너리 = dict({키1: 값1, 키2: 값2})"
   ]
  },
  {
   "cell_type": "code",
   "execution_count": 4,
   "id": "491993a5",
   "metadata": {},
   "outputs": [
    {
     "data": {
      "text/plain": [
       "{'직업': '학생', '나이': 25, '취미': '축구'}"
      ]
     },
     "execution_count": 4,
     "metadata": {},
     "output_type": "execute_result"
    }
   ],
   "source": [
    "# 딕셔너리 = dict(키1=값1, 키2=값2) 형식 \n",
    "\n",
    "#key 값을 문자열로 주지 않습니다. 딕셔너리가 만들어 지면 자동으로 문자열로 변경되어 있습니다.\n",
    "dict(직업 = '학생', 나이 = 25, 취미 = '축구')"
   ]
  },
  {
   "cell_type": "code",
   "execution_count": 5,
   "id": "65fb5c55",
   "metadata": {},
   "outputs": [
    {
     "data": {
      "text/plain": [
       "{'직업': '학생', '나이': 25, '취미': '축구'}"
      ]
     },
     "execution_count": 5,
     "metadata": {},
     "output_type": "execute_result"
    }
   ],
   "source": [
    "# 딕셔너리 = dict(zip([키1, 키2], [값1, 값2])) 형식\n",
    "\n",
    "k = ['직업', '나이', '취미']\n",
    "v = ['학생', 25, '축구']\n",
    "dict(zip(k,v))\n",
    "\n",
    "\n",
    "# zip함수 \n",
    "\n",
    "#반복 가능한 객체 여러 개를 넣으면 요소 순서대로 튜플로 묶어서 zip 객체를 반환\n",
    "\n",
    "#예) list(zip([1, 2, 3], [97, 98, 99]))는 [(1, 97), (2, 98), (3, 99)]"
   ]
  },
  {
   "cell_type": "code",
   "execution_count": 6,
   "id": "7af15fe2",
   "metadata": {},
   "outputs": [
    {
     "data": {
      "text/plain": [
       "{'직업': '학생', '나이': 25, '취미': '축구'}"
      ]
     },
     "execution_count": 6,
     "metadata": {},
     "output_type": "execute_result"
    }
   ],
   "source": [
    "# 딕셔너리 = dict([(키1, 값1), (키2, 값2)]) 형식 \n",
    "\n",
    "dict([('직업', '학생'), ('나이', 25), ('취미', '축구')])"
   ]
  },
  {
   "cell_type": "code",
   "execution_count": 7,
   "id": "ca7fa646",
   "metadata": {},
   "outputs": [
    {
     "data": {
      "text/plain": [
       "{'height': 175,\n",
       " 'weight': 72,\n",
       " 'edu': 'university',\n",
       " 'tech': ('python', 'java', 'algorithm'),\n",
       " 'married': False}"
      ]
     },
     "execution_count": 7,
     "metadata": {},
     "output_type": "execute_result"
    }
   ],
   "source": [
    "# 딕셔너리 = dict({키1: 값1, 키2: 값2}) 형식    가장 기본적이며 많이 쓰이는 형식입니다.\n",
    "\n",
    "dict({'height' : 175, 'weight': 72, 'edu' : 'university', \"tech\" : ('python', 'java', 'algorithm'), \"married\" : False})"
   ]
  },
  {
   "cell_type": "markdown",
   "id": "656f5896",
   "metadata": {},
   "source": [
    "# 2. 딕셔너리의 키에 접근하고 값 할당하기 \n"
   ]
  },
  {
   "cell_type": "markdown",
   "id": "a416cf57",
   "metadata": {},
   "source": [
    "딕셔너리의 키에 접근할 때는 딕셔너리 뒤에 [ ](대괄호)를 사용하며 [ ] 안에 키를 지정해주면 됩니다.\n",
    "\n",
    "**딕셔너리[키]**"
   ]
  },
  {
   "cell_type": "code",
   "execution_count": 8,
   "id": "2435ed48",
   "metadata": {},
   "outputs": [
    {
     "name": "stdout",
     "output_type": "stream",
     "text": [
      "72\n",
      "('python', 'java', 'algorithm')\n"
     ]
    }
   ],
   "source": [
    "person = dict({'height' : 175, 'weight': 72, 'edu' : 'university', \"tech\" : ('python', 'java', 'algorithm'), \"married\" : False})\n",
    "\n",
    "print(person['weight'])\n",
    "print(person['tech'])"
   ]
  },
  {
   "cell_type": "code",
   "execution_count": 9,
   "id": "b036c5a7",
   "metadata": {},
   "outputs": [
    {
     "ename": "KeyError",
     "evalue": "'gender'",
     "output_type": "error",
     "traceback": [
      "\u001b[1;31m---------------------------------------------------------------------------\u001b[0m",
      "\u001b[1;31mKeyError\u001b[0m                                  Traceback (most recent call last)",
      "Cell \u001b[1;32mIn[9], line 2\u001b[0m\n\u001b[0;32m      1\u001b[0m \u001b[38;5;66;03m# 없는 키에 접근 시  Key Error 에러발생 \u001b[39;00m\n\u001b[1;32m----> 2\u001b[0m \u001b[43mperson\u001b[49m\u001b[43m[\u001b[49m\u001b[38;5;124;43m'\u001b[39;49m\u001b[38;5;124;43mgender\u001b[39;49m\u001b[38;5;124;43m'\u001b[39;49m\u001b[43m]\u001b[49m\n",
      "\u001b[1;31mKeyError\u001b[0m: 'gender'"
     ]
    }
   ],
   "source": [
    "# 없는 키에 접근 시  Key Error 에러발생 \n",
    "person['gender']"
   ]
  },
  {
   "cell_type": "markdown",
   "id": "2865e507",
   "metadata": {},
   "source": [
    "딕셔너리는 [ ]로 키에 접근한 뒤 값을 할당합니다.\n",
    "\n",
    "**딕셔너리[키] = 값**"
   ]
  },
  {
   "cell_type": "code",
   "execution_count": 10,
   "id": "5ac0cc6e",
   "metadata": {},
   "outputs": [
    {
     "data": {
      "text/plain": [
       "{'height': 174.3,\n",
       " 'weight': 72,\n",
       " 'edu': 'university',\n",
       " 'tech': ('python', 'java', 'algorithm'),\n",
       " 'married': False,\n",
       " 'address': 'Gwangju'}"
      ]
     },
     "execution_count": 10,
     "metadata": {},
     "output_type": "execute_result"
    }
   ],
   "source": [
    "person = dict({'height' : 175, 'weight': 72, 'edu' : 'university', \"tech\" : ('python', 'java', 'algorithm'), \"married\" : False})\n",
    "\n",
    "# 이미 있는 키 일 경우에는 덮어씀\n",
    "person['height'] = 174.3\n",
    "# 없는 키 일 경우 새로 추가\n",
    "person['address'] = 'Gwangju'\n",
    "\n",
    "person"
   ]
  },
  {
   "cell_type": "markdown",
   "id": "9dcd9d9c",
   "metadata": {},
   "source": [
    "## 2.1 딕셔너리에 키가 있는지 확인하기"
   ]
  },
  {
   "cell_type": "markdown",
   "id": "a9c5222c",
   "metadata": {},
   "source": [
    "**키 in 딕셔너리**"
   ]
  },
  {
   "cell_type": "code",
   "execution_count": 11,
   "id": "17a30386",
   "metadata": {},
   "outputs": [
    {
     "data": {
      "text/plain": [
       "{'height': 174.3,\n",
       " 'weight': 72,\n",
       " 'edu': 'university',\n",
       " 'tech': ('python', 'java', 'algorithm'),\n",
       " 'married': False,\n",
       " 'address': 'Gwangju'}"
      ]
     },
     "execution_count": 11,
     "metadata": {},
     "output_type": "execute_result"
    }
   ],
   "source": [
    "person"
   ]
  },
  {
   "cell_type": "code",
   "execution_count": 12,
   "id": "7f3b6df9",
   "metadata": {},
   "outputs": [
    {
     "data": {
      "text/plain": [
       "True"
      ]
     },
     "execution_count": 12,
     "metadata": {},
     "output_type": "execute_result"
    }
   ],
   "source": [
    "'edu' in person"
   ]
  },
  {
   "cell_type": "code",
   "execution_count": 13,
   "id": "4adc9817",
   "metadata": {},
   "outputs": [
    {
     "data": {
      "text/plain": [
       "False"
      ]
     },
     "execution_count": 13,
     "metadata": {},
     "output_type": "execute_result"
    }
   ],
   "source": [
    "'iphone' in person"
   ]
  },
  {
   "cell_type": "markdown",
   "id": "a10c796d",
   "metadata": {},
   "source": [
    "**키 not in 딕셔너리**"
   ]
  },
  {
   "cell_type": "code",
   "execution_count": 14,
   "id": "6ba0afc5",
   "metadata": {},
   "outputs": [
    {
     "data": {
      "text/plain": [
       "False"
      ]
     },
     "execution_count": 14,
     "metadata": {},
     "output_type": "execute_result"
    }
   ],
   "source": [
    "'edu' not in person"
   ]
  },
  {
   "cell_type": "code",
   "execution_count": 15,
   "id": "0611a865",
   "metadata": {},
   "outputs": [
    {
     "data": {
      "text/plain": [
       "True"
      ]
     },
     "execution_count": 15,
     "metadata": {},
     "output_type": "execute_result"
    }
   ],
   "source": [
    "'iphone' not in person"
   ]
  },
  {
   "cell_type": "markdown",
   "id": "090069aa",
   "metadata": {},
   "source": [
    "# 2.2. 딕셔너리 키 개수 구하기  \n",
    "\n",
    "파이썬의 딕셔너리의 키의 개수를 구할 때는 len()함수를 사용합니다."
   ]
  },
  {
   "cell_type": "code",
   "execution_count": 16,
   "id": "4aa66ba7",
   "metadata": {},
   "outputs": [
    {
     "name": "stdout",
     "output_type": "stream",
     "text": [
      "{'height': 174.3, 'weight': 72, 'edu': 'university', 'tech': ('python', 'java', 'algorithm'), 'married': False, 'address': 'Gwangju'}\n"
     ]
    },
    {
     "data": {
      "text/plain": [
       "6"
      ]
     },
     "execution_count": 16,
     "metadata": {},
     "output_type": "execute_result"
    }
   ],
   "source": [
    "print(person)\n",
    "\n",
    "\n",
    "# Key :  height, weight, edu, tech, married, address\n",
    "len(person)"
   ]
  },
  {
   "cell_type": "markdown",
   "id": "98bc7481",
   "metadata": {},
   "source": [
    "# 3. 딕셔너리 조작하기"
   ]
  },
  {
   "cell_type": "markdown",
   "id": "f8592032",
   "metadata": {},
   "source": [
    "##  3.1 딕셔너리에서 여러 키의 값 한번에 수정하기\n",
    "\n",
    "**update(딕셔너리)**"
   ]
  },
  {
   "cell_type": "code",
   "execution_count": 1,
   "id": "ccab9760",
   "metadata": {},
   "outputs": [
    {
     "data": {
      "text/plain": [
       "{'height': 182,\n",
       " 'weight': 80,\n",
       " 'edu': 'university',\n",
       " 'tech': ('python', 'java', 'algorithm'),\n",
       " 'married': False,\n",
       " 'iphone': False}"
      ]
     },
     "execution_count": 1,
     "metadata": {},
     "output_type": "execute_result"
    }
   ],
   "source": [
    "person = dict({'height' : 175, 'weight': 72, 'edu' : 'university', \"tech\" : ('python', 'java', 'algorithm'), \"married\" : False})\n",
    "\n",
    "person.update({'height' : 182, 'weight' : 80, 'iphone' : False})\n",
    "person"
   ]
  },
  {
   "cell_type": "markdown",
   "id": "c495f11e",
   "metadata": {},
   "source": [
    "## 3.2 딕셔너리에서 키의 값을 가져오기\n",
    "\n",
    "**get(키)**"
   ]
  },
  {
   "cell_type": "code",
   "execution_count": 18,
   "id": "8c9990e8",
   "metadata": {},
   "outputs": [
    {
     "data": {
      "text/plain": [
       "{'height': 175,\n",
       " 'weight': 72,\n",
       " 'edu': 'university',\n",
       " 'tech': ('python', 'java', 'algorithm'),\n",
       " 'married': False}"
      ]
     },
     "execution_count": 18,
     "metadata": {},
     "output_type": "execute_result"
    }
   ],
   "source": [
    "person = dict({'height' : 175, 'weight': 72, 'edu' : 'university', \"tech\" : ('python', 'java', 'algorithm'), \"married\" : False})\n",
    "person"
   ]
  },
  {
   "cell_type": "code",
   "execution_count": 19,
   "id": "819b0bf6",
   "metadata": {},
   "outputs": [
    {
     "data": {
      "text/plain": [
       "('python', 'java', 'algorithm')"
      ]
     },
     "execution_count": 19,
     "metadata": {},
     "output_type": "execute_result"
    }
   ],
   "source": [
    "# 다음과 같이 teck 키의 값을 가져옵니다.\n",
    "person.get('tech')"
   ]
  },
  {
   "cell_type": "code",
   "execution_count": 20,
   "id": "2cb8bad8",
   "metadata": {},
   "outputs": [],
   "source": [
    "# 찾는 값이 없을 경우 아무것도 반환하지 않습니다.\n",
    "person.get('job')"
   ]
  },
  {
   "cell_type": "markdown",
   "id": "1df7adc1",
   "metadata": {},
   "source": [
    "**get(키, 없을 경우 반환할 값)**"
   ]
  },
  {
   "cell_type": "code",
   "execution_count": 21,
   "id": "e27a37ce",
   "metadata": {},
   "outputs": [
    {
     "data": {
      "text/plain": [
       "'unemployed'"
      ]
     },
     "execution_count": 21,
     "metadata": {},
     "output_type": "execute_result"
    }
   ],
   "source": [
    "# 키가 없을 경우 두번 째 인자로 준 값을 반환합니다.\n",
    "person.get('job', 'unemployed')"
   ]
  },
  {
   "cell_type": "markdown",
   "id": "5c494272",
   "metadata": {},
   "source": [
    "## 3.3. 딕셔너리에서 키-값 쌍을 모두 가져오기\n",
    "\n",
    " - items(): 키-값 쌍을 모두 가져옴\n",
    " - keys(): 키를 모두 가져옴\n",
    " - values(): 값을 모두 가져옴"
   ]
  },
  {
   "cell_type": "code",
   "execution_count": 22,
   "id": "7af2e313",
   "metadata": {},
   "outputs": [
    {
     "data": {
      "text/plain": [
       "dict_items([('height', 175), ('weight', 72), ('edu', 'university'), ('tech', ('python', 'java', 'algorithm')), ('married', False)])"
      ]
     },
     "execution_count": 22,
     "metadata": {},
     "output_type": "execute_result"
    }
   ],
   "source": [
    "person.items()"
   ]
  },
  {
   "cell_type": "code",
   "execution_count": 23,
   "id": "701a78ad",
   "metadata": {},
   "outputs": [
    {
     "data": {
      "text/plain": [
       "dict_keys(['height', 'weight', 'edu', 'tech', 'married'])"
      ]
     },
     "execution_count": 23,
     "metadata": {},
     "output_type": "execute_result"
    }
   ],
   "source": [
    "person.keys()"
   ]
  },
  {
   "cell_type": "code",
   "execution_count": 24,
   "id": "175e3ce8",
   "metadata": {},
   "outputs": [
    {
     "data": {
      "text/plain": [
       "dict_values([175, 72, 'university', ('python', 'java', 'algorithm'), False])"
      ]
     },
     "execution_count": 24,
     "metadata": {},
     "output_type": "execute_result"
    }
   ],
   "source": [
    "person.values()"
   ]
  },
  {
   "cell_type": "markdown",
   "id": "7e6d707e",
   "metadata": {},
   "source": [
    "## 3.4 반복문으로 딕셔너리의 키-값 쌍을 모두 출력하기"
   ]
  },
  {
   "cell_type": "markdown",
   "id": "b5d44951",
   "metadata": {},
   "source": [
    "딕셔너리를 단순하게 for문에 넣으면 키값만 출력합니다. "
   ]
  },
  {
   "cell_type": "code",
   "execution_count": 25,
   "id": "f99ef2f1",
   "metadata": {},
   "outputs": [
    {
     "name": "stdout",
     "output_type": "stream",
     "text": [
      "height\n",
      "weight\n",
      "edu\n",
      "tech\n",
      "married\n"
     ]
    }
   ],
   "source": [
    "for i in person:\n",
    "    print(i)"
   ]
  },
  {
   "cell_type": "markdown",
   "id": "e8396f65",
   "metadata": {},
   "source": [
    "키 값과 벨류 값을 모두 출력하고 싶은 경우에는 다음과 같이 사용할 수 있습니다."
   ]
  },
  {
   "cell_type": "code",
   "execution_count": 26,
   "id": "51bb338c",
   "metadata": {},
   "outputs": [
    {
     "name": "stdout",
     "output_type": "stream",
     "text": [
      "height는 175입니다.\n",
      "weight는 72입니다.\n",
      "edu는 university입니다.\n",
      "tech는 ('python', 'java', 'algorithm')입니다.\n",
      "married는 False입니다.\n"
     ]
    }
   ],
   "source": [
    "for key, value in person.items():\n",
    "\n",
    "    print(f'{key}는 {value}입니다.')"
   ]
  },
  {
   "cell_type": "markdown",
   "id": "ec1ce762",
   "metadata": {},
   "source": [
    "## 3.5 딕셔너리 컴프리헨션 사용하기  \n",
    "\n",
    "딕셔너리도 리스트와, 튜플과 같이 컴프리헨션을 사용할 수 있습니다."
   ]
  },
  {
   "cell_type": "code",
   "execution_count": 27,
   "id": "68b7118b",
   "metadata": {},
   "outputs": [
    {
     "data": {
      "text/plain": [
       "{1: '일', 2: '이', 3: '삼', 4: '사'}"
      ]
     },
     "execution_count": 27,
     "metadata": {},
     "output_type": "execute_result"
    }
   ],
   "source": [
    "d = dict(zip([1,2,3,4], ['일', '이', '삼', '사']))\n",
    "d"
   ]
  },
  {
   "cell_type": "code",
   "execution_count": 28,
   "id": "16a945ec",
   "metadata": {},
   "outputs": [
    {
     "data": {
      "text/plain": [
       "{11: '일', 12: '이', 13: '삼', 14: '사'}"
      ]
     },
     "execution_count": 28,
     "metadata": {},
     "output_type": "execute_result"
    }
   ],
   "source": [
    "# 각 각의 키 값에 10을 더하는 딕셔너리 컴프리헨션\n",
    "{key +10 : value for key, value, in d.items()}"
   ]
  },
  {
   "cell_type": "code",
   "execution_count": 29,
   "id": "9c84f30c",
   "metadata": {},
   "outputs": [
    {
     "data": {
      "text/plain": [
       "{'일': 1, '이': 2, '삼': 3, '사': 4}"
      ]
     },
     "execution_count": 29,
     "metadata": {},
     "output_type": "execute_result"
    }
   ],
   "source": [
    "d = dict(zip([1,2,3,4], ['일', '이', '삼', '사']))\n",
    "\n",
    "# Key 값과 Value값을 바꾸는 딕셔너리 컴프리헨션\n",
    "{value : key for key, value, in d.items()}"
   ]
  },
  {
   "cell_type": "markdown",
   "id": "d3dff6a7",
   "metadata": {},
   "source": [
    "## 3.6 딕셔너리 컴프리헨션에서 if 조건문 사용하기"
   ]
  },
  {
   "cell_type": "code",
   "execution_count": 30,
   "id": "91a2b485",
   "metadata": {},
   "outputs": [
    {
     "ename": "RuntimeError",
     "evalue": "dictionary changed size during iteration",
     "output_type": "error",
     "traceback": [
      "\u001b[1;31m---------------------------------------------------------------------------\u001b[0m",
      "\u001b[1;31mRuntimeError\u001b[0m                              Traceback (most recent call last)",
      "Cell \u001b[1;32mIn[30], line 5\u001b[0m\n\u001b[0;32m      1\u001b[0m d \u001b[38;5;241m=\u001b[39m {\u001b[38;5;241m1\u001b[39m: \u001b[38;5;124m'\u001b[39m\u001b[38;5;124m일\u001b[39m\u001b[38;5;124m'\u001b[39m, \u001b[38;5;241m2\u001b[39m: \u001b[38;5;124m'\u001b[39m\u001b[38;5;124m이\u001b[39m\u001b[38;5;124m'\u001b[39m, \u001b[38;5;241m3\u001b[39m: \u001b[38;5;124m'\u001b[39m\u001b[38;5;124m삼\u001b[39m\u001b[38;5;124m'\u001b[39m, \u001b[38;5;241m4\u001b[39m: \u001b[38;5;124m'\u001b[39m\u001b[38;5;124m사\u001b[39m\u001b[38;5;124m'\u001b[39m}\n\u001b[0;32m      4\u001b[0m \u001b[38;5;66;03m# 키가 짝수라면 딕셔너리에서 제거합니다.\u001b[39;00m\n\u001b[1;32m----> 5\u001b[0m \u001b[38;5;28;01mfor\u001b[39;00m key, value \u001b[38;5;129;01min\u001b[39;00m d\u001b[38;5;241m.\u001b[39mitems():\n\u001b[0;32m      6\u001b[0m     \u001b[38;5;28;01mif\u001b[39;00m key \u001b[38;5;241m%\u001b[39m \u001b[38;5;241m2\u001b[39m \u001b[38;5;241m==\u001b[39m \u001b[38;5;241m0\u001b[39m:\n\u001b[0;32m      7\u001b[0m         \u001b[38;5;28;01mdel\u001b[39;00m d[key]\n",
      "\u001b[1;31mRuntimeError\u001b[0m: dictionary changed size during iteration"
     ]
    }
   ],
   "source": [
    "d = {1: '일', 2: '이', 3: '삼', 4: '사'}\n",
    "\n",
    "\n",
    "# 키가 짝수라면 딕셔너리에서 제거합니다.\n",
    "for key, value in d.items():\n",
    "    if key % 2 == 0:\n",
    "        del d[key]"
   ]
  },
  {
   "cell_type": "markdown",
   "id": "cbe02b22",
   "metadata": {},
   "source": [
    "다음과 같이 del 메서드로 반복을 통해 키를 지우려고 하는 경우 루프를 실행하는 도중에 딕셔너리의 크기가 변했다는 에러가 발생합니다.\n",
    "\n",
    "위 코드를 다음과 같이 나타낼 수 있습니다."
   ]
  },
  {
   "cell_type": "code",
   "execution_count": 31,
   "id": "dfa56c63",
   "metadata": {},
   "outputs": [
    {
     "data": {
      "text/plain": [
       "{1: '일', 3: '삼'}"
      ]
     },
     "execution_count": 31,
     "metadata": {},
     "output_type": "execute_result"
    }
   ],
   "source": [
    "{key:value for key, value in d.items() if not key % 2 == 0}"
   ]
  },
  {
   "cell_type": "markdown",
   "id": "8c94d7f6",
   "metadata": {},
   "source": [
    "# 4. 중첩 딕셔너리 사용하기  \n",
    "\n",
    "딕셔너리는 값 부분에 다시 딕셔너리가 들어갈 수 있습니다."
   ]
  },
  {
   "cell_type": "markdown",
   "id": "9ec6c576",
   "metadata": {},
   "source": [
    "**딕셔너리 = {키1: {키A: 값A}, 키2: {키B: 값B}}**"
   ]
  },
  {
   "cell_type": "code",
   "execution_count": 32,
   "id": "4b18e5b9",
   "metadata": {},
   "outputs": [],
   "source": [
    "university = {\n",
    "    '전남대' : {'컴퓨터 공학부' : ['컴공', '정보보호', 'SW'], '건축학부' : ['건축', '토목', '건축공학']} ,\n",
    "    '목포대' : {'예체능 학부' : ['패션디자인', '식품영양', '체육']}\n",
    "}"
   ]
  },
  {
   "cell_type": "code",
   "execution_count": 33,
   "id": "a4b038ad",
   "metadata": {},
   "outputs": [
    {
     "data": {
      "text/plain": [
       "{'전남대': {'컴퓨터 공학부': ['컴공', '정보보호', 'SW'], '건축학부': ['건축', '토목', '건축공학']},\n",
       " '목포대': {'예체능 학부': ['패션디자인', '식품영양', '체육']}}"
      ]
     },
     "execution_count": 33,
     "metadata": {},
     "output_type": "execute_result"
    }
   ],
   "source": [
    "university"
   ]
  },
  {
   "cell_type": "markdown",
   "id": "1f682d9d",
   "metadata": {},
   "source": [
    "**딕셔너리[키][키]  \n",
    "딕셔너리[키][키] = 값**\n",
    "\n",
    "형식으로 접근과 값 할당 가능"
   ]
  },
  {
   "cell_type": "code",
   "execution_count": 34,
   "id": "20cdb429",
   "metadata": {},
   "outputs": [
    {
     "data": {
      "text/plain": [
       "['컴공', '정보보호', 'SW']"
      ]
     },
     "execution_count": 34,
     "metadata": {},
     "output_type": "execute_result"
    }
   ],
   "source": [
    "university['전남대']['컴퓨터 공학부']"
   ]
  },
  {
   "cell_type": "code",
   "execution_count": 35,
   "id": "028758ed",
   "metadata": {},
   "outputs": [],
   "source": [
    "university['전남대']['건축학부'] = '폐지'"
   ]
  },
  {
   "cell_type": "code",
   "execution_count": 36,
   "id": "d9296399",
   "metadata": {},
   "outputs": [
    {
     "data": {
      "text/plain": [
       "{'전남대': {'컴퓨터 공학부': ['컴공', '정보보호', 'SW'], '건축학부': '폐지'},\n",
       " '목포대': {'예체능 학부': ['패션디자인', '식품영양', '체육']}}"
      ]
     },
     "execution_count": 36,
     "metadata": {},
     "output_type": "execute_result"
    }
   ],
   "source": [
    "university"
   ]
  },
  {
   "cell_type": "markdown",
   "id": "a76453f5",
   "metadata": {},
   "source": [
    "# 5. 딕셔너리의 할당과 복사"
   ]
  },
  {
   "cell_type": "code",
   "execution_count": 37,
   "id": "f382b38b",
   "metadata": {},
   "outputs": [],
   "source": [
    "d1 = {'a' : 1, 'b': 2, 'c': 3}\n",
    "d2 = d1"
   ]
  },
  {
   "cell_type": "code",
   "execution_count": 38,
   "id": "d8be7373",
   "metadata": {},
   "outputs": [
    {
     "data": {
      "text/plain": [
       "{'a': 1, 'b': 2, 'c': 3}"
      ]
     },
     "execution_count": 38,
     "metadata": {},
     "output_type": "execute_result"
    }
   ],
   "source": [
    "d1"
   ]
  },
  {
   "cell_type": "code",
   "execution_count": 39,
   "id": "0dfbe433",
   "metadata": {},
   "outputs": [
    {
     "data": {
      "text/plain": [
       "{'a': 1, 'b': 2, 'c': 3}"
      ]
     },
     "execution_count": 39,
     "metadata": {},
     "output_type": "execute_result"
    }
   ],
   "source": [
    "d2"
   ]
  },
  {
   "cell_type": "code",
   "execution_count": 40,
   "id": "46b59c73",
   "metadata": {},
   "outputs": [],
   "source": [
    "d1['a'] = 5"
   ]
  },
  {
   "cell_type": "code",
   "execution_count": 41,
   "id": "4f95b46b",
   "metadata": {},
   "outputs": [
    {
     "data": {
      "text/plain": [
       "{'a': 5, 'b': 2, 'c': 3}"
      ]
     },
     "execution_count": 41,
     "metadata": {},
     "output_type": "execute_result"
    }
   ],
   "source": [
    "d1"
   ]
  },
  {
   "cell_type": "code",
   "execution_count": 42,
   "id": "115d44e4",
   "metadata": {},
   "outputs": [
    {
     "data": {
      "text/plain": [
       "{'a': 5, 'b': 2, 'c': 3}"
      ]
     },
     "execution_count": 42,
     "metadata": {},
     "output_type": "execute_result"
    }
   ],
   "source": [
    "d2"
   ]
  },
  {
   "cell_type": "markdown",
   "id": "455c1ceb",
   "metadata": {},
   "source": [
    "리스트의 할당과 복사와 같은 현상이 일어난다.\n",
    "\n",
    "딕셔너리 복사 방법 \n",
    "\n",
    " - dict()함수 사용하여 복사 \n",
    " - copy모듈을 사용하여 복사"
   ]
  },
  {
   "cell_type": "markdown",
   "id": "cb07be1a",
   "metadata": {},
   "source": [
    "# 프로그래머스 문제"
   ]
  },
  {
   "cell_type": "markdown",
   "id": "7d052779",
   "metadata": {},
   "source": [
    "모스부호 (1)  \n",
    "완주하지 못한 선수  \n",
    "영어가 싫어요"
   ]
  },
  {
   "cell_type": "code",
   "execution_count": null,
   "id": "be21b871",
   "metadata": {},
   "outputs": [],
   "source": []
  }
 ],
 "metadata": {
  "kernelspec": {
   "display_name": "Python 3 (ipykernel)",
   "language": "python",
   "name": "python3"
  },
  "language_info": {
   "codemirror_mode": {
    "name": "ipython",
    "version": 3
   },
   "file_extension": ".py",
   "mimetype": "text/x-python",
   "name": "python",
   "nbconvert_exporter": "python",
   "pygments_lexer": "ipython3",
   "version": "3.10.9"
  }
 },
 "nbformat": 4,
 "nbformat_minor": 5
}
