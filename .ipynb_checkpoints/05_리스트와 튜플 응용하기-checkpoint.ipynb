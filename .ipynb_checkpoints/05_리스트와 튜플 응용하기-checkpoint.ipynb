{
 "cells": [
  {
   "cell_type": "markdown",
   "id": "bbeb26ef",
   "metadata": {},
   "source": [
    "# 1. 리스트에 요소 추가하기"
   ]
  },
  {
   "cell_type": "markdown",
   "id": "d92defab",
   "metadata": {},
   "source": [
    "리스트에 요소를 추가하는 메서드는 크게 3가지가 있습니다. \n",
    "\n",
    " - append()\n",
    " - extend()\n",
    " - insert()"
   ]
  },
  {
   "cell_type": "markdown",
   "id": "070abaa4",
   "metadata": {},
   "source": [
    "**append(요소)** \n",
    "\n",
    "리스트의 마지막에 요소를 추가합니다."
   ]
  },
  {
   "cell_type": "code",
   "execution_count": 1,
   "id": "8cde92d1",
   "metadata": {},
   "outputs": [
    {
     "data": {
      "text/plain": [
       "[1, 2, 3, 4]"
      ]
     },
     "execution_count": 1,
     "metadata": {},
     "output_type": "execute_result"
    }
   ],
   "source": [
    "a = [1,2,3]\n",
    "a.append(4)\n",
    "a"
   ]
  },
  {
   "cell_type": "code",
   "execution_count": 2,
   "id": "966caafd",
   "metadata": {},
   "outputs": [
    {
     "data": {
      "text/plain": [
       "[1, 2, 3, [4, 5]]"
      ]
     },
     "execution_count": 2,
     "metadata": {},
     "output_type": "execute_result"
    }
   ],
   "source": [
    "a = [1,2,3]\n",
    "# 리스트 끝에 [4,5]리스트 객체를 요소로 추가 \n",
    "a.append([4,5])\n",
    "a\n",
    "\n",
    "#2차원 중첩 리스트를 반환"
   ]
  },
  {
   "cell_type": "code",
   "execution_count": 3,
   "id": "3770ec6c",
   "metadata": {},
   "outputs": [
    {
     "data": {
      "text/plain": [
       "4"
      ]
     },
     "execution_count": 3,
     "metadata": {},
     "output_type": "execute_result"
    }
   ],
   "source": [
    "# 이 경우 리스트의 길이는 1, 2, 3, [4,5] 로 4를 반환합니다.\n",
    "\n",
    "len(a)"
   ]
  },
  {
   "cell_type": "markdown",
   "id": "cf234f70",
   "metadata": {},
   "source": [
    "추가 할 요소가 여러개인 경우 extend()로 한 번에 여러 요소 추가가 가능합니다.\n",
    "\n",
    "**extend(반복 가능한 객체(이터러블객체) )**"
   ]
  },
  {
   "cell_type": "code",
   "execution_count": 4,
   "id": "64a9d158",
   "metadata": {},
   "outputs": [
    {
     "data": {
      "text/plain": [
       "[1, 2, 3, 4, 5]"
      ]
     },
     "execution_count": 4,
     "metadata": {},
     "output_type": "execute_result"
    }
   ],
   "source": [
    "a = [1,2,3] \n",
    "a.extend([4,5])\n",
    "a"
   ]
  },
  {
   "cell_type": "markdown",
   "id": "cdaf0aca",
   "metadata": {},
   "source": [
    "특정 인덱스에 요소를 추가하고 싶은 경우에는 inssert()를 사용합니다.  \n",
    "\n",
    "**insert(인덱스, 요소)**"
   ]
  },
  {
   "cell_type": "code",
   "execution_count": 5,
   "id": "6e909905",
   "metadata": {},
   "outputs": [
    {
     "data": {
      "text/plain": [
       "[1, 2, 3, 4, 5]"
      ]
     },
     "execution_count": 5,
     "metadata": {},
     "output_type": "execute_result"
    }
   ],
   "source": [
    "a = [1,2,4,5]\n",
    "a.insert(2, 3)\n",
    "a"
   ]
  },
  {
   "cell_type": "markdown",
   "id": "deb6a362",
   "metadata": {},
   "source": [
    "# 2. 리스트에서 요소 삭제하기  \n",
    "  \n",
    "  리스트에서 요소를 삭제하는 메서드는 두 가지가 있습니다.\n",
    "  \n",
    "  - pop()\n",
    "  - remove()"
   ]
  },
  {
   "cell_type": "markdown",
   "id": "d7c9bfd1",
   "metadata": {},
   "source": [
    "**pop(인덱스)** 로 사용되며 인덱스의 Default값은 리스트의 마지막 값입니다.  \n",
    "\n",
    "또한 pop()메서드는 리스트에서 해당 값을 제거하며 반환합니다."
   ]
  },
  {
   "cell_type": "code",
   "execution_count": 6,
   "id": "ec851342",
   "metadata": {},
   "outputs": [
    {
     "data": {
      "text/plain": [
       "5"
      ]
     },
     "execution_count": 6,
     "metadata": {},
     "output_type": "execute_result"
    }
   ],
   "source": [
    "arr = [1,2,3,4,5]\n",
    "# 마지막 요소 삭제 후 반환\n",
    "arr.pop()"
   ]
  },
  {
   "cell_type": "code",
   "execution_count": 7,
   "id": "c4615159",
   "metadata": {},
   "outputs": [
    {
     "data": {
      "text/plain": [
       "[1, 2, 3, 4]"
      ]
     },
     "execution_count": 7,
     "metadata": {},
     "output_type": "execute_result"
    }
   ],
   "source": [
    "arr"
   ]
  },
  {
   "cell_type": "code",
   "execution_count": 8,
   "id": "dc80e5f4",
   "metadata": {},
   "outputs": [
    {
     "data": {
      "text/plain": [
       "2"
      ]
     },
     "execution_count": 8,
     "metadata": {},
     "output_type": "execute_result"
    }
   ],
   "source": [
    "# 1번 인덱스의 요소 삭제 후 반환\n",
    "arr.pop(1)"
   ]
  },
  {
   "cell_type": "code",
   "execution_count": 9,
   "id": "7887f207",
   "metadata": {},
   "outputs": [
    {
     "data": {
      "text/plain": [
       "[1, 3, 4]"
      ]
     },
     "execution_count": 9,
     "metadata": {},
     "output_type": "execute_result"
    }
   ],
   "source": [
    "arr"
   ]
  },
  {
   "cell_type": "markdown",
   "id": "a74a7335",
   "metadata": {},
   "source": [
    "리스트에서 특정 값을 찾아서 삭제하고 싶을 때는 remove() 메서드를 사용합니다.\n",
    "\n",
    "**remove(값)**"
   ]
  },
  {
   "cell_type": "code",
   "execution_count": 10,
   "id": "06e07403",
   "metadata": {},
   "outputs": [
    {
     "data": {
      "text/plain": [
       "[1, 2, 4, 2]"
      ]
     },
     "execution_count": 10,
     "metadata": {},
     "output_type": "execute_result"
    }
   ],
   "source": [
    "arr = [1,2,3,4,2]\n",
    "arr.remove(3)\n",
    "arr"
   ]
  },
  {
   "cell_type": "code",
   "execution_count": 11,
   "id": "2c6f0553",
   "metadata": {},
   "outputs": [
    {
     "data": {
      "text/plain": [
       "[1, 3, 4, 2]"
      ]
     },
     "execution_count": 11,
     "metadata": {},
     "output_type": "execute_result"
    }
   ],
   "source": [
    "# 값이 여러 개인 경우에는 첫번째로 찾은 값을 삭제합니다.\n",
    "arr = [1,2,3,4,2]\n",
    "arr.remove(2)\n",
    "arr"
   ]
  },
  {
   "cell_type": "markdown",
   "id": "c46df585",
   "metadata": {},
   "source": [
    "# 3. 리스트의 할당과 복사 알아보기"
   ]
  },
  {
   "cell_type": "code",
   "execution_count": 12,
   "id": "fc73c235",
   "metadata": {},
   "outputs": [
    {
     "name": "stdout",
     "output_type": "stream",
     "text": [
      "a = [1, 2, 3, 4, 5]\n",
      "b = [1, 2, 3, 4, 5]\n"
     ]
    }
   ],
   "source": [
    "a = [1,2,3,4,5]\n",
    "b = a \n",
    "print(f'a = {a}')\n",
    "print(f'b = {b}')"
   ]
  },
  {
   "cell_type": "markdown",
   "id": "d325c318",
   "metadata": {},
   "source": [
    "b = a 와 같이 리스트를 다른 변수에 할당하면 리스트는 두 개가 될 것 같지만 실제로는 리스트가 한 개 입니다."
   ]
  },
  {
   "cell_type": "markdown",
   "id": "c87e5a49",
   "metadata": {},
   "source": [
    "![](05_List_reference.png)"
   ]
  },
  {
   "cell_type": "code",
   "execution_count": 13,
   "id": "ebe8e641",
   "metadata": {},
   "outputs": [
    {
     "data": {
      "text/plain": [
       "1921334164928"
      ]
     },
     "execution_count": 13,
     "metadata": {},
     "output_type": "execute_result"
    }
   ],
   "source": [
    "id(a)"
   ]
  },
  {
   "cell_type": "code",
   "execution_count": 14,
   "id": "b6f52b72",
   "metadata": {},
   "outputs": [
    {
     "data": {
      "text/plain": [
       "1921334164928"
      ]
     },
     "execution_count": 14,
     "metadata": {},
     "output_type": "execute_result"
    }
   ],
   "source": [
    "id(b)"
   ]
  },
  {
   "cell_type": "code",
   "execution_count": 15,
   "id": "b53ff63a",
   "metadata": {},
   "outputs": [
    {
     "data": {
      "text/plain": [
       "True"
      ]
     },
     "execution_count": 15,
     "metadata": {},
     "output_type": "execute_result"
    }
   ],
   "source": [
    "a is b"
   ]
  },
  {
   "cell_type": "markdown",
   "id": "29a5a591",
   "metadata": {},
   "source": [
    "즉 a 와 b 가 같은 객체를 가르키고 있습니다.  \n",
    "즉 a리스트의 값을 수정하면 b리스트도 같이 변하는 문제가 발생합니다."
   ]
  },
  {
   "cell_type": "code",
   "execution_count": 16,
   "id": "ab0e3d71",
   "metadata": {},
   "outputs": [
    {
     "data": {
      "text/plain": [
       "[1, 2, 10, 4, 5]"
      ]
     },
     "execution_count": 16,
     "metadata": {},
     "output_type": "execute_result"
    }
   ],
   "source": [
    "a[2] = 10\n",
    "a"
   ]
  },
  {
   "cell_type": "code",
   "execution_count": 17,
   "id": "739107a2",
   "metadata": {},
   "outputs": [
    {
     "data": {
      "text/plain": [
       "[1, 2, 10, 4, 5]"
      ]
     },
     "execution_count": 17,
     "metadata": {},
     "output_type": "execute_result"
    }
   ],
   "source": [
    "b"
   ]
  },
  {
   "cell_type": "markdown",
   "id": "52ce700a",
   "metadata": {},
   "source": [
    "## 리스트를 바람직하게 복사하는 방법 \n"
   ]
  },
  {
   "cell_type": "code",
   "execution_count": 18,
   "id": "833bd5f4",
   "metadata": {},
   "outputs": [
    {
     "name": "stdout",
     "output_type": "stream",
     "text": [
      "a = [1, 5, 3]\n",
      "b = [1, 2, 3]\n"
     ]
    }
   ],
   "source": [
    "# 슬라이싱을 사용한 복사\n",
    "a = [1,2,3]\n",
    "b = a[:]\n",
    "\n",
    "a[1] = 5\n",
    "\n",
    "print(f'a = {a}')\n",
    "print(f'b = {b}')"
   ]
  },
  {
   "cell_type": "code",
   "execution_count": 19,
   "id": "541d713a",
   "metadata": {},
   "outputs": [
    {
     "name": "stdout",
     "output_type": "stream",
     "text": [
      "a = [1, 5, 3]\n",
      "b = [1, 2, 3]\n"
     ]
    }
   ],
   "source": [
    "# list() 생성자를 이용한 복사\n",
    "a = [1,2,3]\n",
    "b = list(a)\n",
    "\n",
    "a[1] = 5\n",
    "\n",
    "print(f'a = {a}')\n",
    "print(f'b = {b}')"
   ]
  },
  {
   "cell_type": "code",
   "execution_count": 20,
   "id": "bfd55795",
   "metadata": {},
   "outputs": [
    {
     "name": "stdout",
     "output_type": "stream",
     "text": [
      "a = [1, 5, 3]\n",
      "b = [1, 2, 3]\n"
     ]
    }
   ],
   "source": [
    "# copy 모듈의 copy() 함수를 사용한 복사\n",
    "import copy\n",
    "\n",
    "a = [1,2,3]\n",
    "b = copy.copy(a)\n",
    "\n",
    "a[1] = 5\n",
    "\n",
    "print(f'a = {a}')\n",
    "print(f'b = {b}')"
   ]
  },
  {
   "cell_type": "markdown",
   "id": "a90e6db3",
   "metadata": {},
   "source": [
    "###  2차원 이상 부터는 copy모듈의 deepcopy를 사용하는 것이 바람직 합니다.  \n",
    "\n",
    "**copy.deepcopy(리스트)**"
   ]
  },
  {
   "cell_type": "markdown",
   "id": "9e395772",
   "metadata": {},
   "source": [
    "# 4. 반복문으로 리스트의 요소를 모두 출력하기"
   ]
  },
  {
   "cell_type": "markdown",
   "id": "b5f1b6e9",
   "metadata": {},
   "source": [
    "<code>for 변수 in 리스트:  \n",
    "    반복할 코드\n",
    "</code>\n",
    "\n",
    "형식으로 in 뒤에 리스트를 지정하면 됩니다."
   ]
  },
  {
   "cell_type": "code",
   "execution_count": 21,
   "id": "a3d61e6f",
   "metadata": {},
   "outputs": [
    {
     "name": "stdout",
     "output_type": "stream",
     "text": [
      "62\n",
      "3\n",
      "2\n",
      "162\n",
      "46\n"
     ]
    }
   ],
   "source": [
    "arr = [62,3,2,162,46]\n",
    "\n",
    "for i in arr:\n",
    "    print(i)"
   ]
  },
  {
   "cell_type": "markdown",
   "id": "d21e0d4e",
   "metadata": {},
   "source": [
    "# 4.2 인덱스와 요소를 함께 출력하기\n",
    "\n",
    "<code>for 인덱스, 요소 in enumerate(리스트):</code>\n",
    "\n",
    "형식으로 인덱스와 요소를 함께 출력할 수 있습니다.\n",
    "    "
   ]
  },
  {
   "cell_type": "code",
   "execution_count": 22,
   "id": "bde6e5f0",
   "metadata": {},
   "outputs": [
    {
     "name": "stdout",
     "output_type": "stream",
     "text": [
      "0 62\n",
      "1 3\n",
      "2 2\n",
      "3 162\n",
      "4 46\n"
     ]
    }
   ],
   "source": [
    "arr = [62,3,2,162,46]\n",
    "\n",
    "for idx, value in enumerate(arr):\n",
    "    print(idx, value)"
   ]
  },
  {
   "cell_type": "markdown",
   "id": "fe650c32",
   "metadata": {},
   "source": [
    "# 5. 리스트의 가장 작은 수, 가장 큰 수, 합계 구하기"
   ]
  },
  {
   "cell_type": "code",
   "execution_count": 23,
   "id": "dbf3eecb",
   "metadata": {},
   "outputs": [],
   "source": [
    "arr = [5,1,6,2,7,4,3]"
   ]
  },
  {
   "cell_type": "code",
   "execution_count": 24,
   "id": "3603466c",
   "metadata": {},
   "outputs": [
    {
     "data": {
      "text/plain": [
       "1"
      ]
     },
     "execution_count": 24,
     "metadata": {},
     "output_type": "execute_result"
    }
   ],
   "source": [
    "# 가장 작은 수 \n",
    "min(arr)"
   ]
  },
  {
   "cell_type": "code",
   "execution_count": 25,
   "id": "ece241c9",
   "metadata": {},
   "outputs": [
    {
     "data": {
      "text/plain": [
       "7"
      ]
     },
     "execution_count": 25,
     "metadata": {},
     "output_type": "execute_result"
    }
   ],
   "source": [
    "# 가장 큰 수\n",
    "max(arr)"
   ]
  },
  {
   "cell_type": "code",
   "execution_count": 26,
   "id": "9a70f071",
   "metadata": {},
   "outputs": [
    {
     "data": {
      "text/plain": [
       "28"
      ]
     },
     "execution_count": 26,
     "metadata": {},
     "output_type": "execute_result"
    }
   ],
   "source": [
    "# 요소들의 합\n",
    "sum(arr)"
   ]
  },
  {
   "cell_type": "markdown",
   "id": "24fa5830",
   "metadata": {},
   "source": [
    "# 6. 리스트 컴프리헨션(list comprehension) 사용하기   \n",
    "\n",
    "### 리스트 컴프리헨션이란?\n",
    "#### 리스트 안에 for문, if문 등을 지정하여 리스트를 생성하는 방법(파이썬의 강력한 기능 중 하나)\n",
    " \n",
    "**[식 for 변수 in 이터러블객체]**  \n",
    "**list(식 for 변수 in 이터러블객체)**"
   ]
  },
  {
   "cell_type": "code",
   "execution_count": 27,
   "id": "db80aa4d",
   "metadata": {},
   "outputs": [
    {
     "data": {
      "text/plain": [
       "[5, 6, 7, 8, 9, 10, 11, 12, 13, 14]"
      ]
     },
     "execution_count": 27,
     "metadata": {},
     "output_type": "execute_result"
    }
   ],
   "source": [
    "# range(10) 객체에서 각 요소들을 꺼내어 i + 5 연산을 한 리스트 생성\n",
    "[i + 5 for i in range(10)]"
   ]
  },
  {
   "cell_type": "code",
   "execution_count": 28,
   "id": "dd73e7e8",
   "metadata": {},
   "outputs": [
    {
     "data": {
      "text/plain": [
       "[0, 2, 4, 6, 8]"
      ]
     },
     "execution_count": 28,
     "metadata": {},
     "output_type": "execute_result"
    }
   ],
   "source": [
    "# range(10) 객체에서 각 요소들을 꺼내어 2의 배수로만 이루어진 리스트 생성\n",
    "\n",
    "# 조건에 맞는 값만 리스트에 넣고 싶을 경우 if(조건)문을 for 문절 뒤에 작성 \n",
    "\n",
    "[i for i in range(10) if i % 2 == 0]"
   ]
  },
  {
   "cell_type": "code",
   "execution_count": 29,
   "id": "f83e8c89",
   "metadata": {},
   "outputs": [
    {
     "data": {
      "text/plain": [
       "['even', 'odd', 'even', 'odd', 'even', 'odd', 'even', 'odd', 'even', 'odd']"
      ]
     },
     "execution_count": 29,
     "metadata": {},
     "output_type": "execute_result"
    }
   ],
   "source": [
    "# range(10) 객체에서 2의 배수는 \"even\" 2의 배수가 아니면 \"odd\"로 구성된 리스트 생성\n",
    "\n",
    "['even' if i % 2 == 0 else  'odd' for i in range(10)]"
   ]
  },
  {
   "cell_type": "code",
   "execution_count": 30,
   "id": "73208982",
   "metadata": {},
   "outputs": [
    {
     "data": {
      "text/plain": [
       "['Other',\n",
       " 'Other',\n",
       " 'Three',\n",
       " 'Other',\n",
       " 'Five',\n",
       " 'Three',\n",
       " 'Other',\n",
       " 'Other',\n",
       " 'Three']"
      ]
     },
     "execution_count": 30,
     "metadata": {},
     "output_type": "execute_result"
    }
   ],
   "source": [
    "# for 앞에 써는 if(조건)절은 중첩하여 사용할 수 있습니다.\n",
    "\n",
    "#range(1, 10) 객체에서 3의 배수는 Three, 5의 배수는 'Five', 나머지는 'Other'로 구성된 리스트 생성\n",
    "['Three' if i % 3 == 0 else 'Five' if i % 5 ==0 else 'Other' for i in range(1, 10)]"
   ]
  },
  {
   "cell_type": "markdown",
   "id": "b4100f95",
   "metadata": {},
   "source": [
    "# 7. 리스트에 map 사용하기"
   ]
  },
  {
   "cell_type": "markdown",
   "id": "d196c70a",
   "metadata": {},
   "source": [
    "map 함수는 리스트의 요소를 지정된 함수로 처리해주는 함수입니다.\n",
    "\n",
    "**map(함수, 이터러블객체)**"
   ]
  },
  {
   "cell_type": "code",
   "execution_count": 31,
   "id": "d5016a8f",
   "metadata": {},
   "outputs": [
    {
     "data": {
      "text/plain": [
       "[1, 4, 9, 16, 25, 36, 49]"
      ]
     },
     "execution_count": 31,
     "metadata": {},
     "output_type": "execute_result"
    }
   ],
   "source": [
    "# 활용 \n",
    "\n",
    "\n",
    "# 수를 입력받아 **2 (제곱) 해주는 함수\n",
    "def power2(n):\n",
    "    return n**2\n",
    "\n",
    "\n",
    "\n",
    "a = [1,2,3,4,5,6,7]\n",
    "\n",
    "# 각각의 요소가 함수의 결과로 바뀐 리스트 생성\n",
    "list(map(power2, a))"
   ]
  },
  {
   "cell_type": "code",
   "execution_count": 32,
   "id": "fd44cb4c",
   "metadata": {},
   "outputs": [
    {
     "data": {
      "text/plain": [
       "['1', '2', '3', '4', '5', '6', '7']"
      ]
     },
     "execution_count": 32,
     "metadata": {},
     "output_type": "execute_result"
    }
   ],
   "source": [
    "#각각의 요소가 str함수가 적용되어 문자열로 변경된 리스트 생성\n",
    "list(map(str, a))"
   ]
  },
  {
   "cell_type": "markdown",
   "id": "f9fde9b9",
   "metadata": {},
   "source": [
    "# 8. input().split()과 map"
   ]
  },
  {
   "cell_type": "code",
   "execution_count": 33,
   "id": "1f16213e",
   "metadata": {},
   "outputs": [
    {
     "name": "stdout",
     "output_type": "stream",
     "text": [
      "1 5 9 2\n"
     ]
    }
   ],
   "source": [
    "# 파이썬에서 여러 변수에 한번의 입력으로 값을 할당 할 때 쓰이는 방식이며\n",
    "# 매우 많이 사용합니다\n",
    "\n",
    "a,b,c,d = map(int, input().split())"
   ]
  },
  {
   "cell_type": "code",
   "execution_count": 34,
   "id": "88f4e317",
   "metadata": {},
   "outputs": [
    {
     "name": "stdout",
     "output_type": "stream",
     "text": [
      "1 5 9 2\n"
     ]
    }
   ],
   "source": [
    "print(a,b,c,d)"
   ]
  },
  {
   "cell_type": "code",
   "execution_count": 35,
   "id": "657d0766",
   "metadata": {},
   "outputs": [
    {
     "name": "stdout",
     "output_type": "stream",
     "text": [
      "1 5 9 2\n"
     ]
    }
   ],
   "source": [
    "# Step by Step\n",
    "\n",
    "tmp = input()"
   ]
  },
  {
   "cell_type": "code",
   "execution_count": 36,
   "id": "ff8d75f3",
   "metadata": {},
   "outputs": [
    {
     "data": {
      "text/plain": [
       "'1 5 9 2'"
      ]
     },
     "execution_count": 36,
     "metadata": {},
     "output_type": "execute_result"
    }
   ],
   "source": [
    "# input()함수의 기본형이 str형식으로 입력받습니다.\n",
    "tmp"
   ]
  },
  {
   "cell_type": "code",
   "execution_count": 37,
   "id": "e15194cf",
   "metadata": {},
   "outputs": [
    {
     "data": {
      "text/plain": [
       "['1', '5', '9', '2']"
      ]
     },
     "execution_count": 37,
     "metadata": {},
     "output_type": "execute_result"
    }
   ],
   "source": [
    "# split() 메서드를 사용하여 공백을 기준으로 나눈 리스트를 생성합니다.\n",
    "tmp.split()"
   ]
  },
  {
   "cell_type": "code",
   "execution_count": 38,
   "id": "6eaca75a",
   "metadata": {},
   "outputs": [
    {
     "data": {
      "text/plain": [
       "<map at 0x1bf58306680>"
      ]
     },
     "execution_count": 38,
     "metadata": {},
     "output_type": "execute_result"
    }
   ],
   "source": [
    "# map() 함수를 이용하여 리스트의 각 요소들을 int형으로 바꿔줍니다.\n",
    "map(int, ['1', '5', '9', '2'])"
   ]
  },
  {
   "cell_type": "code",
   "execution_count": 39,
   "id": "ac891ad6",
   "metadata": {},
   "outputs": [],
   "source": [
    "# map 객체를 언패킹 하여 각 변수에 할당해 줍니다.\n",
    "a,b,c,d = map(int, ['1', '5', '9', '2'])"
   ]
  },
  {
   "cell_type": "markdown",
   "id": "c52dd0b4",
   "metadata": {},
   "source": [
    "# 8. 튜플 응용하기\n",
    "\n",
    "### 튜플은 리스트의 이뮤터블한 버전이라 생각하시면 됩니다.\n",
    "### 즉 튜플은 수정하는 매서드는 사용할 수 없지만 \n",
    "### 요소의 값, 인덱스, 개수 등 튜플을 수정하지 않는 메서드들은 사용할 수 있습니다."
   ]
  },
  {
   "cell_type": "markdown",
   "id": "1b67fc4f",
   "metadata": {},
   "source": [
    "# 프로그래머스 문제풀이\n",
    "\n"
   ]
  },
  {
   "cell_type": "markdown",
   "id": "4ca4d76e",
   "metadata": {},
   "source": [
    "짝수의 합 - 리스트 컴프리헨션을 활용하여 풀어보세요  \n",
    "배열 회전시키기  \n",
    "문자열 정렬하기 (1) - 리스트 컴프리헨션 활용하여 풀어보세요  Tip.(문자열이 \"숫자\"인지 확인할 수 있는 .isdigit()라는 함수가 있습니다.)  \n",
    "배열 원소의 길이\n"
   ]
  }
 ],
 "metadata": {
  "kernelspec": {
   "display_name": "Python 3 (ipykernel)",
   "language": "python",
   "name": "python3"
  },
  "language_info": {
   "codemirror_mode": {
    "name": "ipython",
    "version": 3
   },
   "file_extension": ".py",
   "mimetype": "text/x-python",
   "name": "python",
   "nbconvert_exporter": "python",
   "pygments_lexer": "ipython3",
   "version": "3.10.9"
  }
 },
 "nbformat": 4,
 "nbformat_minor": 5
}
