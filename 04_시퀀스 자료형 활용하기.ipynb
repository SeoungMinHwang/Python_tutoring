{
 "cells": [
  {
   "cell_type": "markdown",
   "id": "f0d9ff35",
   "metadata": {},
   "source": [
    "파이썬에서는 연속적으로 이어진 자료형을 시퀀스 자료형 이라고 부릅니다.  \n",
    "\n",
    "대표적인 예  \n",
    "\n",
    "- list\n",
    "- tuple \n",
    "- range \n",
    "- str"
   ]
  },
  {
   "cell_type": "markdown",
   "id": "de53223e",
   "metadata": {},
   "source": [
    "# 1. 시퀀스 객체의 공통 기능 사용하기"
   ]
  },
  {
   "cell_type": "markdown",
   "id": "d890c075",
   "metadata": {},
   "source": [
    "## 1.1 특정 값이 있는지 확인하기"
   ]
  },
  {
   "cell_type": "markdown",
   "id": "cf5d65f9",
   "metadata": {},
   "source": [
    "값 in 시퀀스 객체"
   ]
  },
  {
   "cell_type": "code",
   "execution_count": 1,
   "id": "994d0a0d",
   "metadata": {},
   "outputs": [
    {
     "data": {
      "text/plain": [
       "True"
      ]
     },
     "execution_count": 1,
     "metadata": {},
     "output_type": "execute_result"
    }
   ],
   "source": [
    "korea = ['광주', '부산', '대구', '서울']\n",
    "'광주' in korea"
   ]
  },
  {
   "cell_type": "code",
   "execution_count": 2,
   "id": "2de226a5",
   "metadata": {},
   "outputs": [
    {
     "data": {
      "text/plain": [
       "False"
      ]
     },
     "execution_count": 2,
     "metadata": {},
     "output_type": "execute_result"
    }
   ],
   "source": [
    "'보스턴' in korea"
   ]
  },
  {
   "cell_type": "markdown",
   "id": "af889b1a",
   "metadata": {},
   "source": [
    "in 앞에 not을 붙여 부정으로 만드는 것 가능  \n",
    "값 not in 시퀀스 객체"
   ]
  },
  {
   "cell_type": "code",
   "execution_count": 3,
   "id": "c491489d",
   "metadata": {},
   "outputs": [
    {
     "data": {
      "text/plain": [
       "False"
      ]
     },
     "execution_count": 3,
     "metadata": {},
     "output_type": "execute_result"
    }
   ],
   "source": [
    "korea = ['광주', '부산', '대구', '서울']\n",
    "'광주' not in korea"
   ]
  },
  {
   "cell_type": "code",
   "execution_count": 4,
   "id": "b8d587c1",
   "metadata": {},
   "outputs": [
    {
     "data": {
      "text/plain": [
       "True"
      ]
     },
     "execution_count": 4,
     "metadata": {},
     "output_type": "execute_result"
    }
   ],
   "source": [
    "'보스턴' not in korea"
   ]
  },
  {
   "cell_type": "markdown",
   "id": "cacd5344",
   "metadata": {},
   "source": [
    "튜플, range, 문자열도 같은 방법으로 활용할 수 있습니다."
   ]
  },
  {
   "cell_type": "code",
   "execution_count": 5,
   "id": "a94c9804",
   "metadata": {},
   "outputs": [
    {
     "data": {
      "text/plain": [
       "True"
      ]
     },
     "execution_count": 5,
     "metadata": {},
     "output_type": "execute_result"
    }
   ],
   "source": [
    "43 in (1, 2, 43, 3)"
   ]
  },
  {
   "cell_type": "code",
   "execution_count": 6,
   "id": "08857564",
   "metadata": {},
   "outputs": [
    {
     "data": {
      "text/plain": [
       "True"
      ]
     },
     "execution_count": 6,
     "metadata": {},
     "output_type": "execute_result"
    }
   ],
   "source": [
    "3 in range(1,5)"
   ]
  },
  {
   "cell_type": "code",
   "execution_count": 7,
   "id": "d21d7304",
   "metadata": {},
   "outputs": [
    {
     "data": {
      "text/plain": [
       "True"
      ]
     },
     "execution_count": 7,
     "metadata": {},
     "output_type": "execute_result"
    }
   ],
   "source": [
    "'Py' in 'Python'"
   ]
  },
  {
   "cell_type": "markdown",
   "id": "20e1460e",
   "metadata": {},
   "source": [
    "## 1.2 시퀀스 객체 연결하기"
   ]
  },
  {
   "cell_type": "markdown",
   "id": "ed8222cf",
   "metadata": {},
   "source": [
    "시퀀스 객체 + 시퀀스 객체  \n",
    "형식으로 연결 가능 "
   ]
  },
  {
   "cell_type": "code",
   "execution_count": 8,
   "id": "0fab8433",
   "metadata": {},
   "outputs": [
    {
     "data": {
      "text/plain": [
       "[1, 2, 3, 4, 4, 5, 6, 7]"
      ]
     },
     "execution_count": 8,
     "metadata": {},
     "output_type": "execute_result"
    }
   ],
   "source": [
    "a = [1,2,3,4]\n",
    "b = [4,5,6,7]\n",
    "a + b"
   ]
  },
  {
   "cell_type": "markdown",
   "id": "490fba7b",
   "metadata": {},
   "source": [
    "단 range 객체는 + 연산자로 연결이 불가능합니다."
   ]
  },
  {
   "cell_type": "code",
   "execution_count": 9,
   "id": "4f4746cd",
   "metadata": {},
   "outputs": [
    {
     "ename": "TypeError",
     "evalue": "unsupported operand type(s) for +: 'range' and 'range'",
     "output_type": "error",
     "traceback": [
      "\u001b[1;31m---------------------------------------------------------------------------\u001b[0m",
      "\u001b[1;31mTypeError\u001b[0m                                 Traceback (most recent call last)",
      "Cell \u001b[1;32mIn[9], line 1\u001b[0m\n\u001b[1;32m----> 1\u001b[0m \u001b[38;5;28;43mrange\u001b[39;49m\u001b[43m(\u001b[49m\u001b[38;5;241;43m1\u001b[39;49m\u001b[43m,\u001b[49m\u001b[38;5;241;43m5\u001b[39;49m\u001b[43m)\u001b[49m\u001b[43m \u001b[49m\u001b[38;5;241;43m+\u001b[39;49m\u001b[43m \u001b[49m\u001b[38;5;28;43mrange\u001b[39;49m\u001b[43m(\u001b[49m\u001b[38;5;241;43m5\u001b[39;49m\u001b[43m,\u001b[49m\u001b[38;5;241;43m10\u001b[39;49m\u001b[43m)\u001b[49m\n",
      "\u001b[1;31mTypeError\u001b[0m: unsupported operand type(s) for +: 'range' and 'range'"
     ]
    }
   ],
   "source": [
    "range(1,5) + range(5,10)"
   ]
  },
  {
   "cell_type": "markdown",
   "id": "31ee3e84",
   "metadata": {},
   "source": [
    "## 1.3 시퀀스 객체 반복하기"
   ]
  },
  {
   "cell_type": "markdown",
   "id": "bb09b6c8",
   "metadata": {},
   "source": [
    "시퀀스 객체 * 정수  \n",
    "정수 * 시퀀스 객체  \n",
    "형식으로 반복할 수 있으며 마찬가지로 range 객체에서는 사용 불가합니다."
   ]
  },
  {
   "cell_type": "code",
   "execution_count": 10,
   "id": "f9e5aff9",
   "metadata": {},
   "outputs": [
    {
     "data": {
      "text/plain": [
       "[1, 2, 3, 1, 2, 3]"
      ]
     },
     "execution_count": 10,
     "metadata": {},
     "output_type": "execute_result"
    }
   ],
   "source": [
    "[1,2,3] * 2"
   ]
  },
  {
   "cell_type": "code",
   "execution_count": 11,
   "id": "edb7fd66",
   "metadata": {},
   "outputs": [
    {
     "data": {
      "text/plain": [
       "'123123'"
      ]
     },
     "execution_count": 11,
     "metadata": {},
     "output_type": "execute_result"
    }
   ],
   "source": [
    "'123' * 2"
   ]
  },
  {
   "cell_type": "markdown",
   "id": "06c18134",
   "metadata": {},
   "source": [
    "range 객체에 +, * 연산자를 사용하고 싶을경우 리스트나 튜플로 바꿔서 사용"
   ]
  },
  {
   "cell_type": "code",
   "execution_count": 12,
   "id": "ebb87f40",
   "metadata": {},
   "outputs": [
    {
     "data": {
      "text/plain": [
       "[2, 3, 8, 9, 10]"
      ]
     },
     "execution_count": 12,
     "metadata": {},
     "output_type": "execute_result"
    }
   ],
   "source": [
    "list(range(2,4)) + [8,9,10]"
   ]
  },
  {
   "cell_type": "code",
   "execution_count": 13,
   "id": "f4cbecaf",
   "metadata": {},
   "outputs": [
    {
     "data": {
      "text/plain": [
       "[2, 3, 2, 3]"
      ]
     },
     "execution_count": 13,
     "metadata": {},
     "output_type": "execute_result"
    }
   ],
   "source": [
    "list(range(2,4)) * 2"
   ]
  },
  {
   "cell_type": "markdown",
   "id": "36e2ec29",
   "metadata": {},
   "source": [
    "# 2. 시퀀스 객체 요소 개수 구하기"
   ]
  },
  {
   "cell_type": "markdown",
   "id": "061ea6d5",
   "metadata": {},
   "source": [
    "len(시퀀스 객체) 형식으로 사용"
   ]
  },
  {
   "cell_type": "code",
   "execution_count": 14,
   "id": "db57ea99",
   "metadata": {},
   "outputs": [
    {
     "data": {
      "text/plain": [
       "3"
      ]
     },
     "execution_count": 14,
     "metadata": {},
     "output_type": "execute_result"
    }
   ],
   "source": [
    "len([1, 2, 3])"
   ]
  },
  {
   "cell_type": "code",
   "execution_count": 15,
   "id": "7ca156f4",
   "metadata": {},
   "outputs": [
    {
     "data": {
      "text/plain": [
       "5"
      ]
     },
     "execution_count": 15,
     "metadata": {},
     "output_type": "execute_result"
    }
   ],
   "source": [
    "len((1, 2, 3, 4, 5))"
   ]
  },
  {
   "cell_type": "code",
   "execution_count": 16,
   "id": "41107b0c",
   "metadata": {},
   "outputs": [
    {
     "data": {
      "text/plain": [
       "3"
      ]
     },
     "execution_count": 16,
     "metadata": {},
     "output_type": "execute_result"
    }
   ],
   "source": [
    "len('123')"
   ]
  },
  {
   "cell_type": "code",
   "execution_count": 17,
   "id": "24cea945",
   "metadata": {},
   "outputs": [
    {
     "data": {
      "text/plain": [
       "4"
      ]
     },
     "execution_count": 17,
     "metadata": {},
     "output_type": "execute_result"
    }
   ],
   "source": [
    "# 문자열은 공백도 개수에 포함합니다.\n",
    "len('1 23')"
   ]
  },
  {
   "cell_type": "code",
   "execution_count": 18,
   "id": "a0269cc2",
   "metadata": {},
   "outputs": [
    {
     "data": {
      "text/plain": [
       "5"
      ]
     },
     "execution_count": 18,
     "metadata": {},
     "output_type": "execute_result"
    }
   ],
   "source": [
    "# 0, 2, 4, 6, 8   ==> 5개\n",
    "len(range(0, 10, 2))"
   ]
  },
  {
   "cell_type": "markdown",
   "id": "39b39129",
   "metadata": {},
   "source": [
    "# 3. 인덱스 사용하기"
   ]
  },
  {
   "cell_type": "markdown",
   "id": "fd978ae5",
   "metadata": {},
   "source": [
    "시퀀스 객체의 각 요소는 순서가 정해져 있으며, 이 순서를 **인덱스**라고 부릅니다.  \n",
    "다음과 같이 시퀀스 객체에 \\[\\](대괄호)를 붙이고 각 요소의 인덱스를 지정하면 해당 요소에 접근할 수 있습니다.  \n",
    "\n",
    "**시퀀스 객체[인덱스]**"
   ]
  },
  {
   "cell_type": "markdown",
   "id": "19f40f4f",
   "metadata": {},
   "source": [
    "![시퀀스 요소 순서](03_Sequence_element_order.png)"
   ]
  },
  {
   "cell_type": "code",
   "execution_count": 19,
   "id": "c3452239",
   "metadata": {},
   "outputs": [],
   "source": [
    "a = [1,2,3,4]"
   ]
  },
  {
   "cell_type": "code",
   "execution_count": 20,
   "id": "07924dc8",
   "metadata": {},
   "outputs": [
    {
     "data": {
      "text/plain": [
       "1"
      ]
     },
     "execution_count": 20,
     "metadata": {},
     "output_type": "execute_result"
    }
   ],
   "source": [
    "# 첫 번쨰 요소\n",
    "a[0]"
   ]
  },
  {
   "cell_type": "code",
   "execution_count": 21,
   "id": "be3398b4",
   "metadata": {},
   "outputs": [
    {
     "data": {
      "text/plain": [
       "3"
      ]
     },
     "execution_count": 21,
     "metadata": {},
     "output_type": "execute_result"
    }
   ],
   "source": [
    "# 세 번째 요소\n",
    "a[2]"
   ]
  },
  {
   "cell_type": "code",
   "execution_count": 22,
   "id": "5bff5738",
   "metadata": {},
   "outputs": [
    {
     "data": {
      "text/plain": [
       "2"
      ]
     },
     "execution_count": 22,
     "metadata": {},
     "output_type": "execute_result"
    }
   ],
   "source": [
    "b = (1,2,3,4)\n",
    "b[1]"
   ]
  },
  {
   "cell_type": "code",
   "execution_count": 23,
   "id": "d35f7541",
   "metadata": {},
   "outputs": [
    {
     "data": {
      "text/plain": [
       "3"
      ]
     },
     "execution_count": 23,
     "metadata": {},
     "output_type": "execute_result"
    }
   ],
   "source": [
    "r  = range(1,5)\n",
    "r[2]"
   ]
  },
  {
   "cell_type": "markdown",
   "id": "c6871ff0",
   "metadata": {},
   "source": [
    "## 3.2. 음수 인덱스 지정하기  "
   ]
  },
  {
   "cell_type": "markdown",
   "id": "44aca338",
   "metadata": {},
   "source": [
    "![시퀀스 요소 순서](03_Sequence_element_order2.png)"
   ]
  },
  {
   "cell_type": "code",
   "execution_count": 24,
   "id": "8b2bc22c",
   "metadata": {},
   "outputs": [
    {
     "data": {
      "text/plain": [
       "4"
      ]
     },
     "execution_count": 24,
     "metadata": {},
     "output_type": "execute_result"
    }
   ],
   "source": [
    "a = [1, 2, 3, 4]\n",
    "# a의 마지막 요소\n",
    "a[-1]"
   ]
  },
  {
   "cell_type": "code",
   "execution_count": 25,
   "id": "bbf30c27",
   "metadata": {},
   "outputs": [
    {
     "data": {
      "text/plain": [
       "5"
      ]
     },
     "execution_count": 25,
     "metadata": {},
     "output_type": "execute_result"
    }
   ],
   "source": [
    "b = (2, 3, 4, 5, 6)\n",
    "# b의 마지막에서 두 번째 요소\n",
    "b[-2]"
   ]
  },
  {
   "cell_type": "code",
   "execution_count": 26,
   "id": "6cd8abc3",
   "metadata": {},
   "outputs": [
    {
     "data": {
      "text/plain": [
       "'t'"
      ]
     },
     "execution_count": 26,
     "metadata": {},
     "output_type": "execute_result"
    }
   ],
   "source": [
    "c = 'Study'\n",
    "c[-4]"
   ]
  },
  {
   "cell_type": "markdown",
   "id": "602ce7b1",
   "metadata": {},
   "source": [
    "인덱스의 범위를 벗어나면  \n",
    "Index Error 발생"
   ]
  },
  {
   "cell_type": "code",
   "execution_count": 27,
   "id": "15614097",
   "metadata": {},
   "outputs": [
    {
     "ename": "IndexError",
     "evalue": "list index out of range",
     "output_type": "error",
     "traceback": [
      "\u001b[1;31m---------------------------------------------------------------------------\u001b[0m",
      "\u001b[1;31mIndexError\u001b[0m                                Traceback (most recent call last)",
      "Cell \u001b[1;32mIn[27], line 2\u001b[0m\n\u001b[0;32m      1\u001b[0m a \u001b[38;5;241m=\u001b[39m [\u001b[38;5;241m0\u001b[39m, \u001b[38;5;241m1\u001b[39m, \u001b[38;5;241m2\u001b[39m, \u001b[38;5;241m3\u001b[39m]\n\u001b[1;32m----> 2\u001b[0m \u001b[43ma\u001b[49m\u001b[43m[\u001b[49m\u001b[38;5;241;43m4\u001b[39;49m\u001b[43m]\u001b[49m\n",
      "\u001b[1;31mIndexError\u001b[0m: list index out of range"
     ]
    }
   ],
   "source": [
    "a = [0, 1, 2, 3]\n",
    "a[4]"
   ]
  },
  {
   "cell_type": "code",
   "execution_count": 1,
   "id": "15557b04",
   "metadata": {},
   "outputs": [
    {
     "ename": "IndexError",
     "evalue": "list index out of range",
     "output_type": "error",
     "traceback": [
      "\u001b[1;31m---------------------------------------------------------------------------\u001b[0m",
      "\u001b[1;31mIndexError\u001b[0m                                Traceback (most recent call last)",
      "Cell \u001b[1;32mIn[1], line 2\u001b[0m\n\u001b[0;32m      1\u001b[0m a \u001b[38;5;241m=\u001b[39m [\u001b[38;5;241m0\u001b[39m, \u001b[38;5;241m1\u001b[39m, \u001b[38;5;241m2\u001b[39m, \u001b[38;5;241m3\u001b[39m]\n\u001b[1;32m----> 2\u001b[0m \u001b[43ma\u001b[49m\u001b[43m[\u001b[49m\u001b[38;5;241;43m-\u001b[39;49m\u001b[38;5;241;43m5\u001b[39;49m\u001b[43m]\u001b[49m\n",
      "\u001b[1;31mIndexError\u001b[0m: list index out of range"
     ]
    }
   ],
   "source": [
    "a = [0, 1, 2, 3]\n",
    "a[-5]"
   ]
  },
  {
   "cell_type": "markdown",
   "id": "1cec0404",
   "metadata": {},
   "source": [
    "## 3.3. 요소에 값 할당하기  \n",
    "\n",
    "뮤터블 객체는 \\[\\]로 요소에 접근 후 =로 값 할당이 가능합니다."
   ]
  },
  {
   "cell_type": "code",
   "execution_count": 28,
   "id": "e190b4d5",
   "metadata": {},
   "outputs": [
    {
     "data": {
      "text/plain": [
       "[1, 2, 3, 4, 5]"
      ]
     },
     "execution_count": 28,
     "metadata": {},
     "output_type": "execute_result"
    }
   ],
   "source": [
    "a = [1,2,0,4,5]\n",
    "a[2] = 3\n",
    "a"
   ]
  },
  {
   "cell_type": "markdown",
   "id": "cf0d8641",
   "metadata": {},
   "source": [
    "## 3.4. del로 요소 삭제하기"
   ]
  },
  {
   "cell_type": "markdown",
   "id": "1a680ec3",
   "metadata": {},
   "source": [
    "del 시퀀스객체[인덱스]  \n",
    "형식으로 지정한 요소 삭제가 가능"
   ]
  },
  {
   "cell_type": "code",
   "execution_count": 29,
   "id": "bec952e1",
   "metadata": {},
   "outputs": [
    {
     "data": {
      "text/plain": [
       "[10, 20, 30, 40, 50]"
      ]
     },
     "execution_count": 29,
     "metadata": {},
     "output_type": "execute_result"
    }
   ],
   "source": [
    "a = [10, 20, 20, 30, 40, 50]\n",
    "del a[2]\n",
    "a"
   ]
  },
  {
   "cell_type": "markdown",
   "id": "dd2af62a",
   "metadata": {},
   "source": [
    "이뮤터블 객체인 문자열, 튜플 등은 del로 특정 요소 삭제 불가능"
   ]
  },
  {
   "cell_type": "code",
   "execution_count": 30,
   "id": "8c9571de",
   "metadata": {},
   "outputs": [
    {
     "ename": "TypeError",
     "evalue": "'tuple' object doesn't support item deletion",
     "output_type": "error",
     "traceback": [
      "\u001b[1;31m---------------------------------------------------------------------------\u001b[0m",
      "\u001b[1;31mTypeError\u001b[0m                                 Traceback (most recent call last)",
      "Cell \u001b[1;32mIn[30], line 2\u001b[0m\n\u001b[0;32m      1\u001b[0m b \u001b[38;5;241m=\u001b[39m (\u001b[38;5;241m10\u001b[39m, \u001b[38;5;241m20\u001b[39m, \u001b[38;5;241m30\u001b[39m, \u001b[38;5;241m30\u001b[39m, \u001b[38;5;241m40\u001b[39m, \u001b[38;5;241m50\u001b[39m)\n\u001b[1;32m----> 2\u001b[0m \u001b[38;5;28;01mdel\u001b[39;00m b[\u001b[38;5;241m3\u001b[39m]\n",
      "\u001b[1;31mTypeError\u001b[0m: 'tuple' object doesn't support item deletion"
     ]
    }
   ],
   "source": [
    "b = (10, 20, 30, 30, 40, 50)\n",
    "del b[3]"
   ]
  },
  {
   "cell_type": "code",
   "execution_count": 31,
   "id": "92655579",
   "metadata": {},
   "outputs": [
    {
     "ename": "TypeError",
     "evalue": "'str' object doesn't support item deletion",
     "output_type": "error",
     "traceback": [
      "\u001b[1;31m---------------------------------------------------------------------------\u001b[0m",
      "\u001b[1;31mTypeError\u001b[0m                                 Traceback (most recent call last)",
      "Cell \u001b[1;32mIn[31], line 2\u001b[0m\n\u001b[0;32m      1\u001b[0m c \u001b[38;5;241m=\u001b[39m \u001b[38;5;124m\"\u001b[39m\u001b[38;5;124m123345\u001b[39m\u001b[38;5;124m\"\u001b[39m\n\u001b[1;32m----> 2\u001b[0m \u001b[38;5;28;01mdel\u001b[39;00m c[\u001b[38;5;241m3\u001b[39m]\n",
      "\u001b[1;31mTypeError\u001b[0m: 'str' object doesn't support item deletion"
     ]
    }
   ],
   "source": [
    "c = \"123345\"\n",
    "del c[3]"
   ]
  },
  {
   "cell_type": "markdown",
   "id": "4b186fa1",
   "metadata": {},
   "source": [
    "# 4. 슬라이스 사용하기"
   ]
  },
  {
   "cell_type": "markdown",
   "id": "c6f3c463",
   "metadata": {},
   "source": [
    "슬라이스는 시퀀스 객체의 일부를 잘라내어 새 객체를 반환하는 방법\n",
    "\n",
    "**시퀀스객체[시작인덱스:끝인덱스]**"
   ]
  },
  {
   "cell_type": "code",
   "execution_count": 32,
   "id": "796a1cfb",
   "metadata": {},
   "outputs": [
    {
     "data": {
      "text/plain": [
       "[30, 40, 50]"
      ]
     },
     "execution_count": 32,
     "metadata": {},
     "output_type": "execute_result"
    }
   ],
   "source": [
    "a = [0, 10, 20, 30, 40, 50, 60, 70, 80, 90]\n",
    "# 첫 인덱스는 포함하며 마지막 인덱스는 포함하지 않습니다.\n",
    "a[3:6]"
   ]
  },
  {
   "cell_type": "code",
   "execution_count": 33,
   "id": "8611988f",
   "metadata": {},
   "outputs": [
    {
     "data": {
      "text/plain": [
       "[40, 50, 60, 70, 80]"
      ]
     },
     "execution_count": 33,
     "metadata": {},
     "output_type": "execute_result"
    }
   ],
   "source": [
    "# 4번째 인덱스 부터 마지막 인덱스 범위의 값 반환 \n",
    "# 마지막 인덱스는 값에 포함 X\n",
    "a[4:-1]"
   ]
  },
  {
   "cell_type": "markdown",
   "id": "a93d2905",
   "metadata": {},
   "source": [
    "## 4.2. 증가폭 사용하기  \n",
    "\n",
    "시퀀스객체[시작인덱스:끝인덱스:증감폭]"
   ]
  },
  {
   "cell_type": "code",
   "execution_count": 34,
   "id": "22f2c02f",
   "metadata": {},
   "outputs": [
    {
     "data": {
      "text/plain": [
       "[20, 50]"
      ]
     },
     "execution_count": 34,
     "metadata": {},
     "output_type": "execute_result"
    }
   ],
   "source": [
    "a = [0, 10, 20, 30, 40, 50, 60, 70, 80, 90]\n",
    "a[2:8:3]"
   ]
  },
  {
   "cell_type": "markdown",
   "id": "80e06dca",
   "metadata": {},
   "source": [
    "## 4.3 인덱스 생략하기  \n",
    "\n",
    "시퀀스객체[:끝인덱스]  \n",
    "시퀀스객체[시작인덱스:]  \n",
    "형식으로 생략 가능\n"
   ]
  },
  {
   "cell_type": "code",
   "execution_count": 35,
   "id": "f682fdc1",
   "metadata": {},
   "outputs": [
    {
     "data": {
      "text/plain": [
       "[0, 10, 20, 30, 40]"
      ]
     },
     "execution_count": 35,
     "metadata": {},
     "output_type": "execute_result"
    }
   ],
   "source": [
    "a = [0, 10, 20, 30, 40, 50, 60, 70, 80, 90]\n",
    "a[:5]"
   ]
  },
  {
   "cell_type": "code",
   "execution_count": 36,
   "id": "ca9bbcf4",
   "metadata": {},
   "outputs": [
    {
     "data": {
      "text/plain": [
       "[50, 60, 70, 80, 90]"
      ]
     },
     "execution_count": 36,
     "metadata": {},
     "output_type": "execute_result"
    }
   ],
   "source": [
    "a[5:]"
   ]
  },
  {
   "cell_type": "code",
   "execution_count": 37,
   "id": "9eaacc77",
   "metadata": {},
   "outputs": [
    {
     "data": {
      "text/plain": [
       "[0, 20, 40]"
      ]
     },
     "execution_count": 37,
     "metadata": {},
     "output_type": "execute_result"
    }
   ],
   "source": [
    "a = [0, 10, 20, 30, 40, 50, 60, 70, 80, 90]\n",
    "a[:5:2]"
   ]
  },
  {
   "cell_type": "code",
   "execution_count": 38,
   "id": "2d3b8b7b",
   "metadata": {},
   "outputs": [
    {
     "data": {
      "text/plain": [
       "[50, 70, 90]"
      ]
     },
     "execution_count": 38,
     "metadata": {},
     "output_type": "execute_result"
    }
   ],
   "source": [
    "a[5::2]"
   ]
  },
  {
   "cell_type": "markdown",
   "id": "3e174ce8",
   "metadata": {},
   "source": [
    "### 참고\n",
    "슬라이싱의 증감폭을 음수로 지정하면 요소를 뒤에서 부터 가져올 수 있습니다."
   ]
  },
  {
   "cell_type": "code",
   "execution_count": 39,
   "id": "94311897",
   "metadata": {},
   "outputs": [
    {
     "data": {
      "text/plain": [
       "[50, 40, 30]"
      ]
     },
     "execution_count": 39,
     "metadata": {},
     "output_type": "execute_result"
    }
   ],
   "source": [
    "a = [0, 10, 20, 30, 40, 50, 60, 70, 80, 90]\n",
    "\n",
    "# 시작 인덱스 5 포함 \n",
    "#끝 인덱스 2 포함 X\n",
    "a[5:2:-1]"
   ]
  },
  {
   "cell_type": "markdown",
   "id": "2fdb488f",
   "metadata": {},
   "source": [
    "## 4.4 슬라이스에 요소 할당하기  \n",
    "\n",
    "시퀀스 객체는 슬라이스 범위를 지정하여 여러 요소에 값을 할당할 수 있습니다.  \n",
    "\n",
    "시퀀스객체[시작인덱스:끝인덱스] = 시퀀스객체"
   ]
  },
  {
   "cell_type": "code",
   "execution_count": 40,
   "id": "b42148c6",
   "metadata": {},
   "outputs": [
    {
     "data": {
      "text/plain": [
       "[0, 10, 'a', 'b', 'c', 50, 60, 70, 80, 90]"
      ]
     },
     "execution_count": 40,
     "metadata": {},
     "output_type": "execute_result"
    }
   ],
   "source": [
    "a = [0, 10, 20, 30, 40, 50, 60, 70, 80, 90]\n",
    "a[2:5] = ['a', 'b', 'c']\n",
    "a"
   ]
  },
  {
   "cell_type": "code",
   "execution_count": 41,
   "id": "b3f2f97b",
   "metadata": {},
   "outputs": [
    {
     "data": {
      "text/plain": [
       "[0, 10, 'a', 50, 60, 70, 80, 90]"
      ]
     },
     "execution_count": 41,
     "metadata": {},
     "output_type": "execute_result"
    }
   ],
   "source": [
    "#할당할 요소 개수가 적으면 그 만큼 리스트의 요소 개수도 줄어듭니다.\n",
    "a = [0, 10, 20, 30, 40, 50, 60, 70, 80, 90]\n",
    "a[2:5] = ['a']\n",
    "a"
   ]
  },
  {
   "cell_type": "code",
   "execution_count": 42,
   "id": "d028f5f8",
   "metadata": {},
   "outputs": [
    {
     "data": {
      "text/plain": [
       "[0, 10, 'a', 'b', 'c', 'd', 'e', 'f', 50, 60, 70, 80, 90]"
      ]
     },
     "execution_count": 42,
     "metadata": {},
     "output_type": "execute_result"
    }
   ],
   "source": [
    "#할당할 요소 개수가 많으면 그만큼 리스트의 요소 개수도 늘어듭니다.\n",
    "a = [0, 10, 20, 30, 40, 50, 60, 70, 80, 90]\n",
    "a[2:5] = ['a', 'b', 'c', 'd', 'e', 'f']\n",
    "a"
   ]
  },
  {
   "cell_type": "markdown",
   "id": "b209d994",
   "metadata": {},
   "source": [
    "## 4.5 del로 슬라이스 삭제하기  \n",
    "\n",
    "슬라이스 삭제는 다음과 같이 del뒤에 삭제할 범위를 지정해주면 됩니다.\n",
    "\n",
    "del 시퀀스객체[시작인덱스:끝인덱스]"
   ]
  },
  {
   "cell_type": "code",
   "execution_count": 43,
   "id": "98837a66",
   "metadata": {},
   "outputs": [
    {
     "data": {
      "text/plain": [
       "[0, 10, 50, 60, 70, 80, 90]"
      ]
     },
     "execution_count": 43,
     "metadata": {},
     "output_type": "execute_result"
    }
   ],
   "source": [
    "a = [0, 10, 20, 30, 40, 50, 60, 70, 80, 90]\n",
    "del a[2:5]\n",
    "a"
   ]
  },
  {
   "cell_type": "markdown",
   "id": "081d1f4d",
   "metadata": {},
   "source": [
    "# 프로그래머스 문제 풀이  \n",
    "\n",
    "배열 뒤집기  \n",
    "배열 자르기  \n",
    "인덱스 바꾸기"
   ]
  },
  {
   "cell_type": "code",
   "execution_count": null,
   "id": "02605d00",
   "metadata": {},
   "outputs": [],
   "source": []
  }
 ],
 "metadata": {
  "kernelspec": {
   "display_name": "Python 3 (ipykernel)",
   "language": "python",
   "name": "python3"
  },
  "language_info": {
   "codemirror_mode": {
    "name": "ipython",
    "version": 3
   },
   "file_extension": ".py",
   "mimetype": "text/x-python",
   "name": "python",
   "nbconvert_exporter": "python",
   "pygments_lexer": "ipython3",
   "version": "3.10.9"
  }
 },
 "nbformat": 4,
 "nbformat_minor": 5
}
